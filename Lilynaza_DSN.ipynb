{
  "nbformat": 4,
  "nbformat_minor": 0,
  "metadata": {
    "colab": {
      "name": " Lilynaza_DSN.ipynb",
      "provenance": [],
      "collapsed_sections": [],
      "include_colab_link": true
    },
    "kernelspec": {
      "display_name": "Python 3",
      "name": "python3"
    },
    "language_info": {
      "name": "python"
    }
  },
  "cells": [
    {
      "cell_type": "markdown",
      "metadata": {
        "id": "view-in-github",
        "colab_type": "text"
      },
      "source": [
        "<a href=\"https://colab.research.google.com/github/lilynaza/-recommender_system/blob/main/Lilynaza_DSN.ipynb\" target=\"_parent\"><img src=\"https://colab.research.google.com/assets/colab-badge.svg\" alt=\"Open In Colab\"/></a>"
      ]
    },
    {
      "cell_type": "markdown",
      "metadata": {
        "id": "KaLJQOzPf1Y8"
      },
      "source": [
        "\n",
        "\n",
        " >This project is aimed at buildng a robust intelligent model capable of recommending products and services to Users based on their activities on sapa.com\n",
        "\n",
        "### Variable definitions\n",
        "\n",
        "1. ID: Unique identifier for each User\n",
        "2. Year_of_Birth: Year of birth\n",
        "3. Education_Level: The highest level of education attained by the User\n",
        "4. Marital_Status: Marital status\n",
        "5. Disposable_Income: Yearly User’s household disposable income\n",
        "6. No_of_Kids_in_home: total count of children in the user’s home\n",
        "7. No_of_Teen_in_home: Number of teenagers in the User's household\n",
        "8. Date_User: Date of User's enrollment with the company\n",
        "9. Recency: Number of days since User's last purchase\n",
        "10. Discounted_Purchases: Counts of purchases made by the user using coupons\n",
        "11. WebPurchases: Counts of purchases made by the user through the company’s website\n",
        "12. CatalogPurchases: Counts of purchases made by the user using a catalogue\n",
        "13. StorePurchases: Counts of purchases made by the user directly in stores\n",
        "14. Amount_on_Wines: Total amount user spent on wine and drinks within the last 3 years\n",
        "15. Amount_on_Fruits: Total amount user spent on fruity food within the last 3 years\n",
        "16. Amount_on_MeatProducts: Total amount user spent on meat products and livestock within the last 3 years\n",
        "17. Amount_on_FishProducts: Total amount user spent on fish alone within the last 3 years\n",
        "18. Amount_on_SweetProducts: Total amount user spent on sweets and chocolates within the last 3 years\n",
        "19. Amount_on_GoldProds: Total amount user spent on golden products within the last 3 years\n",
        "20. WebVisitsMonth: The number of times the user of visits to company’s website within the last 4 weeks\n",
        "21. Cmp3Accepted: 1: Offer was accepted after the third campaign, 0 otherwise\n",
        "22. Cmp4Accepted: 1: Offer was accepted after the fourth campaign, 0 otherwise\n",
        "23. Cmp5Accepted: 1: Offer was accepted after the fifth campaign, 0 otherwise\n",
        "24. Cmp1Accepted: 1: Offer was accepted after the first campaign, 0 otherwise\n",
        "25. Cmp2Accepted: 1: Offer was accepted after the second campaign, 0 otherwise\n",
        "26. Any_Complain: 1 if the user has a compliant history with the platform in the last 3 years, 0 otherwise\n",
        "27. User_Response: 1: indicates the acceptance of offer and 0 otherwise"
      ]
    },
    {
      "cell_type": "code",
      "metadata": {
        "id": "Da71BHP4fdjJ"
      },
      "source": [
        "import pandas as pd\n",
        "import numpy as np\n",
        "import matplotlib.pyplot as plt\n",
        "import seaborn as sns\n",
        "from datetime import datetime"
      ],
      "execution_count": null,
      "outputs": []
    },
    {
      "cell_type": "code",
      "metadata": {
        "id": "chS3W-BSTkAF"
      },
      "source": [
        "train = pd.read_csv('/content/drive/MyDrive/ai-bootcamp/Train.csv')\n",
        "test = pd.read_csv('/content/drive/MyDrive/ai-bootcamp/Test.csv')"
      ],
      "execution_count": null,
      "outputs": []
    },
    {
      "cell_type": "code",
      "metadata": {
        "colab": {
          "base_uri": "https://localhost:8080/",
          "height": 226
        },
        "id": "7vDaDcOyfjVe",
        "outputId": "bb720777-9e37-4351-c25a-43c5ea7760ce"
      },
      "source": [
        "ID = test['ID']\n",
        "test.head()"
      ],
      "execution_count": null,
      "outputs": [
        {
          "output_type": "execute_result",
          "data": {
            "text/html": [
              "<div>\n",
              "<style scoped>\n",
              "    .dataframe tbody tr th:only-of-type {\n",
              "        vertical-align: middle;\n",
              "    }\n",
              "\n",
              "    .dataframe tbody tr th {\n",
              "        vertical-align: top;\n",
              "    }\n",
              "\n",
              "    .dataframe thead th {\n",
              "        text-align: right;\n",
              "    }\n",
              "</style>\n",
              "<table border=\"1\" class=\"dataframe\">\n",
              "  <thead>\n",
              "    <tr style=\"text-align: right;\">\n",
              "      <th></th>\n",
              "      <th>ID</th>\n",
              "      <th>Year_of_Birth</th>\n",
              "      <th>Education_Level</th>\n",
              "      <th>Marital_Status</th>\n",
              "      <th>Disposable_Income</th>\n",
              "      <th>No_of_Kids_in_home</th>\n",
              "      <th>No_of_Teen_in_home</th>\n",
              "      <th>Date_Customer</th>\n",
              "      <th>Recency</th>\n",
              "      <th>Discounted_Purchases</th>\n",
              "      <th>WebPurchases</th>\n",
              "      <th>CatalogPurchases</th>\n",
              "      <th>StorePurchases</th>\n",
              "      <th>Amount_on_Wines</th>\n",
              "      <th>Amount_on_Fruits</th>\n",
              "      <th>Amount_on_MeatProducts</th>\n",
              "      <th>Amount_on_FishProducts</th>\n",
              "      <th>Amount_on_SweetProducts</th>\n",
              "      <th>Amount_on_GoldProds</th>\n",
              "      <th>WebVisitsMonth</th>\n",
              "      <th>Cmp3Accepted</th>\n",
              "      <th>Cmp4Accepted</th>\n",
              "      <th>Cmp5Accepted</th>\n",
              "      <th>Cmp1Accepted</th>\n",
              "      <th>Cmp2Accepted</th>\n",
              "      <th>Any_Complain</th>\n",
              "    </tr>\n",
              "  </thead>\n",
              "  <tbody>\n",
              "    <tr>\n",
              "      <th>0</th>\n",
              "      <td>ID_ZPMABNVX</td>\n",
              "      <td>1954</td>\n",
              "      <td>Graduation</td>\n",
              "      <td>Single</td>\n",
              "      <td>48556.8</td>\n",
              "      <td>0</td>\n",
              "      <td>1</td>\n",
              "      <td>11-01-2013</td>\n",
              "      <td>85</td>\n",
              "      <td>6</td>\n",
              "      <td>8</td>\n",
              "      <td>2</td>\n",
              "      <td>8</td>\n",
              "      <td>429</td>\n",
              "      <td>20</td>\n",
              "      <td>118</td>\n",
              "      <td>7</td>\n",
              "      <td>23</td>\n",
              "      <td>41</td>\n",
              "      <td>8</td>\n",
              "      <td>0</td>\n",
              "      <td>0</td>\n",
              "      <td>0</td>\n",
              "      <td>0</td>\n",
              "      <td>0</td>\n",
              "      <td>0</td>\n",
              "    </tr>\n",
              "    <tr>\n",
              "      <th>1</th>\n",
              "      <td>ID_WFE91NAA</td>\n",
              "      <td>1961</td>\n",
              "      <td>Graduation</td>\n",
              "      <td>Widow</td>\n",
              "      <td>57499.2</td>\n",
              "      <td>0</td>\n",
              "      <td>1</td>\n",
              "      <td>22-11-2012</td>\n",
              "      <td>79</td>\n",
              "      <td>5</td>\n",
              "      <td>7</td>\n",
              "      <td>4</td>\n",
              "      <td>6</td>\n",
              "      <td>510</td>\n",
              "      <td>3</td>\n",
              "      <td>26</td>\n",
              "      <td>0</td>\n",
              "      <td>0</td>\n",
              "      <td>75</td>\n",
              "      <td>6</td>\n",
              "      <td>0</td>\n",
              "      <td>1</td>\n",
              "      <td>0</td>\n",
              "      <td>0</td>\n",
              "      <td>0</td>\n",
              "      <td>0</td>\n",
              "    </tr>\n",
              "    <tr>\n",
              "      <th>2</th>\n",
              "      <td>ID_JV11RBRK</td>\n",
              "      <td>1973</td>\n",
              "      <td>Basic</td>\n",
              "      <td>Married</td>\n",
              "      <td>17025.6</td>\n",
              "      <td>0</td>\n",
              "      <td>0</td>\n",
              "      <td>28-02-2013</td>\n",
              "      <td>47</td>\n",
              "      <td>1</td>\n",
              "      <td>2</td>\n",
              "      <td>0</td>\n",
              "      <td>4</td>\n",
              "      <td>7</td>\n",
              "      <td>10</td>\n",
              "      <td>11</td>\n",
              "      <td>16</td>\n",
              "      <td>12</td>\n",
              "      <td>27</td>\n",
              "      <td>6</td>\n",
              "      <td>0</td>\n",
              "      <td>0</td>\n",
              "      <td>0</td>\n",
              "      <td>0</td>\n",
              "      <td>0</td>\n",
              "      <td>0</td>\n",
              "    </tr>\n",
              "    <tr>\n",
              "      <th>3</th>\n",
              "      <td>ID_6B7SVKY9</td>\n",
              "      <td>1970</td>\n",
              "      <td>Graduation</td>\n",
              "      <td>Together</td>\n",
              "      <td>91983.6</td>\n",
              "      <td>0</td>\n",
              "      <td>0</td>\n",
              "      <td>16-08-2013</td>\n",
              "      <td>98</td>\n",
              "      <td>1</td>\n",
              "      <td>4</td>\n",
              "      <td>7</td>\n",
              "      <td>11</td>\n",
              "      <td>741</td>\n",
              "      <td>66</td>\n",
              "      <td>946</td>\n",
              "      <td>219</td>\n",
              "      <td>189</td>\n",
              "      <td>126</td>\n",
              "      <td>2</td>\n",
              "      <td>0</td>\n",
              "      <td>0</td>\n",
              "      <td>1</td>\n",
              "      <td>1</td>\n",
              "      <td>0</td>\n",
              "      <td>0</td>\n",
              "    </tr>\n",
              "    <tr>\n",
              "      <th>4</th>\n",
              "      <td>ID_GOVUZ545</td>\n",
              "      <td>1959</td>\n",
              "      <td>Graduation</td>\n",
              "      <td>Together</td>\n",
              "      <td>78235.2</td>\n",
              "      <td>0</td>\n",
              "      <td>2</td>\n",
              "      <td>25-07-2013</td>\n",
              "      <td>41</td>\n",
              "      <td>2</td>\n",
              "      <td>7</td>\n",
              "      <td>6</td>\n",
              "      <td>11</td>\n",
              "      <td>748</td>\n",
              "      <td>22</td>\n",
              "      <td>181</td>\n",
              "      <td>12</td>\n",
              "      <td>0</td>\n",
              "      <td>200</td>\n",
              "      <td>5</td>\n",
              "      <td>1</td>\n",
              "      <td>0</td>\n",
              "      <td>0</td>\n",
              "      <td>0</td>\n",
              "      <td>0</td>\n",
              "      <td>0</td>\n",
              "    </tr>\n",
              "  </tbody>\n",
              "</table>\n",
              "</div>"
            ],
            "text/plain": [
              "            ID  Year_of_Birth  ... Cmp2Accepted Any_Complain\n",
              "0  ID_ZPMABNVX           1954  ...            0            0\n",
              "1  ID_WFE91NAA           1961  ...            0            0\n",
              "2  ID_JV11RBRK           1973  ...            0            0\n",
              "3  ID_6B7SVKY9           1970  ...            0            0\n",
              "4  ID_GOVUZ545           1959  ...            0            0\n",
              "\n",
              "[5 rows x 26 columns]"
            ]
          },
          "metadata": {},
          "execution_count": 49
        }
      ]
    },
    {
      "cell_type": "code",
      "metadata": {
        "colab": {
          "base_uri": "https://localhost:8080/",
          "height": 49
        },
        "id": "PFnHCFAefjTJ",
        "outputId": "73871992-4dd7-4a75-dce7-8b8d86675204"
      },
      "source": [
        "sub_file = pd.DataFrame(columns=['ID', 'Response'])\n",
        "sub_file.head()"
      ],
      "execution_count": null,
      "outputs": [
        {
          "output_type": "execute_result",
          "data": {
            "text/html": [
              "<div>\n",
              "<style scoped>\n",
              "    .dataframe tbody tr th:only-of-type {\n",
              "        vertical-align: middle;\n",
              "    }\n",
              "\n",
              "    .dataframe tbody tr th {\n",
              "        vertical-align: top;\n",
              "    }\n",
              "\n",
              "    .dataframe thead th {\n",
              "        text-align: right;\n",
              "    }\n",
              "</style>\n",
              "<table border=\"1\" class=\"dataframe\">\n",
              "  <thead>\n",
              "    <tr style=\"text-align: right;\">\n",
              "      <th></th>\n",
              "      <th>ID</th>\n",
              "      <th>Response</th>\n",
              "    </tr>\n",
              "  </thead>\n",
              "  <tbody>\n",
              "  </tbody>\n",
              "</table>\n",
              "</div>"
            ],
            "text/plain": [
              "Empty DataFrame\n",
              "Columns: [ID, Response]\n",
              "Index: []"
            ]
          },
          "metadata": {},
          "execution_count": 50
        }
      ]
    },
    {
      "cell_type": "code",
      "metadata": {
        "colab": {
          "base_uri": "https://localhost:8080/",
          "height": 206
        },
        "id": "6u4Px_63WGM7",
        "outputId": "3107c421-3eac-4ad0-e346-c49e399b472b"
      },
      "source": [
        "sub_file.ID = test.ID\n",
        "sub_file.head()"
      ],
      "execution_count": null,
      "outputs": [
        {
          "output_type": "execute_result",
          "data": {
            "text/html": [
              "<div>\n",
              "<style scoped>\n",
              "    .dataframe tbody tr th:only-of-type {\n",
              "        vertical-align: middle;\n",
              "    }\n",
              "\n",
              "    .dataframe tbody tr th {\n",
              "        vertical-align: top;\n",
              "    }\n",
              "\n",
              "    .dataframe thead th {\n",
              "        text-align: right;\n",
              "    }\n",
              "</style>\n",
              "<table border=\"1\" class=\"dataframe\">\n",
              "  <thead>\n",
              "    <tr style=\"text-align: right;\">\n",
              "      <th></th>\n",
              "      <th>ID</th>\n",
              "      <th>Response</th>\n",
              "    </tr>\n",
              "  </thead>\n",
              "  <tbody>\n",
              "    <tr>\n",
              "      <th>0</th>\n",
              "      <td>ID_ZPMABNVX</td>\n",
              "      <td>NaN</td>\n",
              "    </tr>\n",
              "    <tr>\n",
              "      <th>1</th>\n",
              "      <td>ID_WFE91NAA</td>\n",
              "      <td>NaN</td>\n",
              "    </tr>\n",
              "    <tr>\n",
              "      <th>2</th>\n",
              "      <td>ID_JV11RBRK</td>\n",
              "      <td>NaN</td>\n",
              "    </tr>\n",
              "    <tr>\n",
              "      <th>3</th>\n",
              "      <td>ID_6B7SVKY9</td>\n",
              "      <td>NaN</td>\n",
              "    </tr>\n",
              "    <tr>\n",
              "      <th>4</th>\n",
              "      <td>ID_GOVUZ545</td>\n",
              "      <td>NaN</td>\n",
              "    </tr>\n",
              "  </tbody>\n",
              "</table>\n",
              "</div>"
            ],
            "text/plain": [
              "            ID Response\n",
              "0  ID_ZPMABNVX      NaN\n",
              "1  ID_WFE91NAA      NaN\n",
              "2  ID_JV11RBRK      NaN\n",
              "3  ID_6B7SVKY9      NaN\n",
              "4  ID_GOVUZ545      NaN"
            ]
          },
          "metadata": {},
          "execution_count": 51
        }
      ]
    },
    {
      "cell_type": "markdown",
      "metadata": {
        "id": "OQ0pz6UkqhQp"
      },
      "source": [
        "## EDA\n",
        "\n",
        "\n",
        "\n",
        "\n"
      ]
    },
    {
      "cell_type": "code",
      "metadata": {
        "colab": {
          "base_uri": "https://localhost:8080/"
        },
        "id": "2iaNZOJffjQo",
        "outputId": "f4f1c603-c6af-41e6-b43b-9faf4b98207e"
      },
      "source": [
        "print(f'The Size of the train set is: {train.shape}, and the size of test shape is : {test.shape}')"
      ],
      "execution_count": null,
      "outputs": [
        {
          "output_type": "stream",
          "name": "stdout",
          "text": [
            "The Size of the train set is: (1568, 27), and the size of test shape is : (672, 26)\n"
          ]
        }
      ]
    },
    {
      "cell_type": "code",
      "metadata": {
        "colab": {
          "base_uri": "https://localhost:8080/"
        },
        "id": "Fr4CxHh6fjOU",
        "outputId": "219833fa-4f1e-4864-a75c-6450fe04834d"
      },
      "source": [
        "train.isnull().sum()"
      ],
      "execution_count": null,
      "outputs": [
        {
          "output_type": "execute_result",
          "data": {
            "text/plain": [
              "ID                          0\n",
              "Year_of_Birth               0\n",
              "Education_Level             0\n",
              "Marital_Status              0\n",
              "Disposable_Income          16\n",
              "No_of_Kids_in_home          0\n",
              "No_of_Teen_in_home          0\n",
              "Date_Customer               0\n",
              "Recency                     0\n",
              "Discounted_Purchases        0\n",
              "WebPurchases                0\n",
              "CatalogPurchases            0\n",
              "StorePurchases              0\n",
              "Amount_on_Wines             0\n",
              "Amount_on_Fruits            0\n",
              "Amount_on_MeatProducts      0\n",
              "Amount_on_FishProducts      0\n",
              "Amount_on_SweetProducts     0\n",
              "Amount_on_GoldProds         0\n",
              "WebVisitsMonth              0\n",
              "Cmp3Accepted                0\n",
              "Cmp4Accepted                0\n",
              "Cmp5Accepted                0\n",
              "Cmp1Accepted                0\n",
              "Cmp2Accepted                0\n",
              "Any_Complain                0\n",
              "Response                    0\n",
              "dtype: int64"
            ]
          },
          "metadata": {},
          "execution_count": 53
        }
      ]
    },
    {
      "cell_type": "code",
      "metadata": {
        "colab": {
          "base_uri": "https://localhost:8080/"
        },
        "id": "XBnW9j6mfjL5",
        "outputId": "73838e93-52c9-4c8f-d158-5dcf9451de9b"
      },
      "source": [
        "test.isnull().sum()"
      ],
      "execution_count": null,
      "outputs": [
        {
          "output_type": "execute_result",
          "data": {
            "text/plain": [
              "ID                         0\n",
              "Year_of_Birth              0\n",
              "Education_Level            0\n",
              "Marital_Status             0\n",
              "Disposable_Income          8\n",
              "No_of_Kids_in_home         0\n",
              "No_of_Teen_in_home         0\n",
              "Date_Customer              0\n",
              "Recency                    0\n",
              "Discounted_Purchases       0\n",
              "WebPurchases               0\n",
              "CatalogPurchases           0\n",
              "StorePurchases             0\n",
              "Amount_on_Wines            0\n",
              "Amount_on_Fruits           0\n",
              "Amount_on_MeatProducts     0\n",
              "Amount_on_FishProducts     0\n",
              "Amount_on_SweetProducts    0\n",
              "Amount_on_GoldProds        0\n",
              "WebVisitsMonth             0\n",
              "Cmp3Accepted               0\n",
              "Cmp4Accepted               0\n",
              "Cmp5Accepted               0\n",
              "Cmp1Accepted               0\n",
              "Cmp2Accepted               0\n",
              "Any_Complain               0\n",
              "dtype: int64"
            ]
          },
          "metadata": {},
          "execution_count": 54
        }
      ]
    },
    {
      "cell_type": "code",
      "metadata": {
        "colab": {
          "base_uri": "https://localhost:8080/"
        },
        "id": "aSpNJtrpfjJe",
        "outputId": "b2a3063b-5853-470c-e620-87857413945a"
      },
      "source": [
        "train.info()"
      ],
      "execution_count": null,
      "outputs": [
        {
          "output_type": "stream",
          "name": "stdout",
          "text": [
            "<class 'pandas.core.frame.DataFrame'>\n",
            "RangeIndex: 1568 entries, 0 to 1567\n",
            "Data columns (total 27 columns):\n",
            " #   Column                   Non-Null Count  Dtype  \n",
            "---  ------                   --------------  -----  \n",
            " 0   ID                       1568 non-null   object \n",
            " 1   Year_of_Birth            1568 non-null   int64  \n",
            " 2   Education_Level          1568 non-null   object \n",
            " 3   Marital_Status           1568 non-null   object \n",
            " 4   Disposable_Income        1552 non-null   float64\n",
            " 5   No_of_Kids_in_home       1568 non-null   int64  \n",
            " 6   No_of_Teen_in_home       1568 non-null   int64  \n",
            " 7   Date_Customer            1568 non-null   object \n",
            " 8   Recency                  1568 non-null   int64  \n",
            " 9   Discounted_Purchases     1568 non-null   int64  \n",
            " 10  WebPurchases             1568 non-null   int64  \n",
            " 11  CatalogPurchases         1568 non-null   int64  \n",
            " 12  StorePurchases           1568 non-null   int64  \n",
            " 13  Amount_on_Wines          1568 non-null   int64  \n",
            " 14  Amount_on_Fruits         1568 non-null   int64  \n",
            " 15  Amount_on_MeatProducts   1568 non-null   int64  \n",
            " 16  Amount_on_FishProducts   1568 non-null   int64  \n",
            " 17  Amount_on_SweetProducts  1568 non-null   int64  \n",
            " 18  Amount_on_GoldProds      1568 non-null   int64  \n",
            " 19  WebVisitsMonth           1568 non-null   int64  \n",
            " 20  Cmp3Accepted             1568 non-null   int64  \n",
            " 21  Cmp4Accepted             1568 non-null   int64  \n",
            " 22  Cmp5Accepted             1568 non-null   int64  \n",
            " 23  Cmp1Accepted             1568 non-null   int64  \n",
            " 24  Cmp2Accepted             1568 non-null   int64  \n",
            " 25  Any_Complain             1568 non-null   int64  \n",
            " 26  Response                 1568 non-null   int64  \n",
            "dtypes: float64(1), int64(22), object(4)\n",
            "memory usage: 330.9+ KB\n"
          ]
        }
      ]
    },
    {
      "cell_type": "code",
      "metadata": {
        "colab": {
          "base_uri": "https://localhost:8080/",
          "height": 771
        },
        "id": "4HmQ5_Q2fjG1",
        "outputId": "fdd46d88-a5e8-4441-90a9-2373876c08cd"
      },
      "source": [
        "train.describe().T"
      ],
      "execution_count": null,
      "outputs": [
        {
          "output_type": "execute_result",
          "data": {
            "text/html": [
              "<div>\n",
              "<style scoped>\n",
              "    .dataframe tbody tr th:only-of-type {\n",
              "        vertical-align: middle;\n",
              "    }\n",
              "\n",
              "    .dataframe tbody tr th {\n",
              "        vertical-align: top;\n",
              "    }\n",
              "\n",
              "    .dataframe thead th {\n",
              "        text-align: right;\n",
              "    }\n",
              "</style>\n",
              "<table border=\"1\" class=\"dataframe\">\n",
              "  <thead>\n",
              "    <tr style=\"text-align: right;\">\n",
              "      <th></th>\n",
              "      <th>count</th>\n",
              "      <th>mean</th>\n",
              "      <th>std</th>\n",
              "      <th>min</th>\n",
              "      <th>25%</th>\n",
              "      <th>50%</th>\n",
              "      <th>75%</th>\n",
              "      <th>max</th>\n",
              "    </tr>\n",
              "  </thead>\n",
              "  <tbody>\n",
              "    <tr>\n",
              "      <th>Year_of_Birth</th>\n",
              "      <td>1568.0</td>\n",
              "      <td>1970.073342</td>\n",
              "      <td>11.920781</td>\n",
              "      <td>1900.0</td>\n",
              "      <td>1960.0</td>\n",
              "      <td>1971.0</td>\n",
              "      <td>1979.00</td>\n",
              "      <td>1997.0</td>\n",
              "    </tr>\n",
              "    <tr>\n",
              "      <th>Disposable_Income</th>\n",
              "      <td>1552.0</td>\n",
              "      <td>62381.186598</td>\n",
              "      <td>32089.169563</td>\n",
              "      <td>2076.0</td>\n",
              "      <td>41612.4</td>\n",
              "      <td>60964.2</td>\n",
              "      <td>81493.20</td>\n",
              "      <td>799999.2</td>\n",
              "    </tr>\n",
              "    <tr>\n",
              "      <th>No_of_Kids_in_home</th>\n",
              "      <td>1568.0</td>\n",
              "      <td>0.460459</td>\n",
              "      <td>0.540361</td>\n",
              "      <td>0.0</td>\n",
              "      <td>0.0</td>\n",
              "      <td>0.0</td>\n",
              "      <td>1.00</td>\n",
              "      <td>2.0</td>\n",
              "    </tr>\n",
              "    <tr>\n",
              "      <th>No_of_Teen_in_home</th>\n",
              "      <td>1568.0</td>\n",
              "      <td>0.497449</td>\n",
              "      <td>0.544151</td>\n",
              "      <td>0.0</td>\n",
              "      <td>0.0</td>\n",
              "      <td>0.0</td>\n",
              "      <td>1.00</td>\n",
              "      <td>2.0</td>\n",
              "    </tr>\n",
              "    <tr>\n",
              "      <th>Recency</th>\n",
              "      <td>1568.0</td>\n",
              "      <td>55.408801</td>\n",
              "      <td>28.788037</td>\n",
              "      <td>7.0</td>\n",
              "      <td>31.0</td>\n",
              "      <td>56.0</td>\n",
              "      <td>80.00</td>\n",
              "      <td>106.0</td>\n",
              "    </tr>\n",
              "    <tr>\n",
              "      <th>Discounted_Purchases</th>\n",
              "      <td>1568.0</td>\n",
              "      <td>2.292730</td>\n",
              "      <td>1.937544</td>\n",
              "      <td>0.0</td>\n",
              "      <td>1.0</td>\n",
              "      <td>2.0</td>\n",
              "      <td>3.00</td>\n",
              "      <td>15.0</td>\n",
              "    </tr>\n",
              "    <tr>\n",
              "      <th>WebPurchases</th>\n",
              "      <td>1568.0</td>\n",
              "      <td>4.001276</td>\n",
              "      <td>2.773748</td>\n",
              "      <td>0.0</td>\n",
              "      <td>2.0</td>\n",
              "      <td>3.0</td>\n",
              "      <td>6.00</td>\n",
              "      <td>27.0</td>\n",
              "    </tr>\n",
              "    <tr>\n",
              "      <th>CatalogPurchases</th>\n",
              "      <td>1568.0</td>\n",
              "      <td>2.665816</td>\n",
              "      <td>3.043493</td>\n",
              "      <td>0.0</td>\n",
              "      <td>0.0</td>\n",
              "      <td>2.0</td>\n",
              "      <td>4.00</td>\n",
              "      <td>28.0</td>\n",
              "    </tr>\n",
              "    <tr>\n",
              "      <th>StorePurchases</th>\n",
              "      <td>1568.0</td>\n",
              "      <td>5.703444</td>\n",
              "      <td>3.260553</td>\n",
              "      <td>0.0</td>\n",
              "      <td>3.0</td>\n",
              "      <td>5.0</td>\n",
              "      <td>8.00</td>\n",
              "      <td>13.0</td>\n",
              "    </tr>\n",
              "    <tr>\n",
              "      <th>Amount_on_Wines</th>\n",
              "      <td>1568.0</td>\n",
              "      <td>303.190051</td>\n",
              "      <td>340.141396</td>\n",
              "      <td>5.0</td>\n",
              "      <td>27.0</td>\n",
              "      <td>167.0</td>\n",
              "      <td>499.50</td>\n",
              "      <td>1498.0</td>\n",
              "    </tr>\n",
              "    <tr>\n",
              "      <th>Amount_on_Fruits</th>\n",
              "      <td>1568.0</td>\n",
              "      <td>29.091199</td>\n",
              "      <td>39.565637</td>\n",
              "      <td>3.0</td>\n",
              "      <td>4.0</td>\n",
              "      <td>11.0</td>\n",
              "      <td>36.00</td>\n",
              "      <td>202.0</td>\n",
              "    </tr>\n",
              "    <tr>\n",
              "      <th>Amount_on_MeatProducts</th>\n",
              "      <td>1568.0</td>\n",
              "      <td>168.376276</td>\n",
              "      <td>233.419980</td>\n",
              "      <td>0.0</td>\n",
              "      <td>15.0</td>\n",
              "      <td>64.0</td>\n",
              "      <td>232.00</td>\n",
              "      <td>1725.0</td>\n",
              "    </tr>\n",
              "    <tr>\n",
              "      <th>Amount_on_FishProducts</th>\n",
              "      <td>1568.0</td>\n",
              "      <td>37.166454</td>\n",
              "      <td>53.994951</td>\n",
              "      <td>0.0</td>\n",
              "      <td>3.0</td>\n",
              "      <td>12.0</td>\n",
              "      <td>49.25</td>\n",
              "      <td>259.0</td>\n",
              "    </tr>\n",
              "    <tr>\n",
              "      <th>Amount_on_SweetProducts</th>\n",
              "      <td>1568.0</td>\n",
              "      <td>26.800383</td>\n",
              "      <td>40.857657</td>\n",
              "      <td>0.0</td>\n",
              "      <td>1.0</td>\n",
              "      <td>8.0</td>\n",
              "      <td>33.00</td>\n",
              "      <td>263.0</td>\n",
              "    </tr>\n",
              "    <tr>\n",
              "      <th>Amount_on_GoldProds</th>\n",
              "      <td>1568.0</td>\n",
              "      <td>43.739158</td>\n",
              "      <td>51.591557</td>\n",
              "      <td>0.0</td>\n",
              "      <td>8.0</td>\n",
              "      <td>25.0</td>\n",
              "      <td>56.00</td>\n",
              "      <td>362.0</td>\n",
              "    </tr>\n",
              "    <tr>\n",
              "      <th>WebVisitsMonth</th>\n",
              "      <td>1568.0</td>\n",
              "      <td>5.326531</td>\n",
              "      <td>2.468023</td>\n",
              "      <td>0.0</td>\n",
              "      <td>3.0</td>\n",
              "      <td>6.0</td>\n",
              "      <td>7.00</td>\n",
              "      <td>20.0</td>\n",
              "    </tr>\n",
              "    <tr>\n",
              "      <th>Cmp3Accepted</th>\n",
              "      <td>1568.0</td>\n",
              "      <td>0.072704</td>\n",
              "      <td>0.259733</td>\n",
              "      <td>0.0</td>\n",
              "      <td>0.0</td>\n",
              "      <td>0.0</td>\n",
              "      <td>0.00</td>\n",
              "      <td>1.0</td>\n",
              "    </tr>\n",
              "    <tr>\n",
              "      <th>Cmp4Accepted</th>\n",
              "      <td>1568.0</td>\n",
              "      <td>0.072704</td>\n",
              "      <td>0.259733</td>\n",
              "      <td>0.0</td>\n",
              "      <td>0.0</td>\n",
              "      <td>0.0</td>\n",
              "      <td>0.00</td>\n",
              "      <td>1.0</td>\n",
              "    </tr>\n",
              "    <tr>\n",
              "      <th>Cmp5Accepted</th>\n",
              "      <td>1568.0</td>\n",
              "      <td>0.080357</td>\n",
              "      <td>0.271932</td>\n",
              "      <td>0.0</td>\n",
              "      <td>0.0</td>\n",
              "      <td>0.0</td>\n",
              "      <td>0.00</td>\n",
              "      <td>1.0</td>\n",
              "    </tr>\n",
              "    <tr>\n",
              "      <th>Cmp1Accepted</th>\n",
              "      <td>1568.0</td>\n",
              "      <td>0.064413</td>\n",
              "      <td>0.245566</td>\n",
              "      <td>0.0</td>\n",
              "      <td>0.0</td>\n",
              "      <td>0.0</td>\n",
              "      <td>0.00</td>\n",
              "      <td>1.0</td>\n",
              "    </tr>\n",
              "    <tr>\n",
              "      <th>Cmp2Accepted</th>\n",
              "      <td>1568.0</td>\n",
              "      <td>0.012755</td>\n",
              "      <td>0.112252</td>\n",
              "      <td>0.0</td>\n",
              "      <td>0.0</td>\n",
              "      <td>0.0</td>\n",
              "      <td>0.00</td>\n",
              "      <td>1.0</td>\n",
              "    </tr>\n",
              "    <tr>\n",
              "      <th>Any_Complain</th>\n",
              "      <td>1568.0</td>\n",
              "      <td>0.008291</td>\n",
              "      <td>0.090705</td>\n",
              "      <td>0.0</td>\n",
              "      <td>0.0</td>\n",
              "      <td>0.0</td>\n",
              "      <td>0.00</td>\n",
              "      <td>1.0</td>\n",
              "    </tr>\n",
              "    <tr>\n",
              "      <th>Response</th>\n",
              "      <td>1568.0</td>\n",
              "      <td>0.152423</td>\n",
              "      <td>0.359546</td>\n",
              "      <td>0.0</td>\n",
              "      <td>0.0</td>\n",
              "      <td>0.0</td>\n",
              "      <td>0.00</td>\n",
              "      <td>1.0</td>\n",
              "    </tr>\n",
              "  </tbody>\n",
              "</table>\n",
              "</div>"
            ],
            "text/plain": [
              "                          count          mean  ...       75%       max\n",
              "Year_of_Birth            1568.0   1970.073342  ...   1979.00    1997.0\n",
              "Disposable_Income        1552.0  62381.186598  ...  81493.20  799999.2\n",
              "No_of_Kids_in_home       1568.0      0.460459  ...      1.00       2.0\n",
              "No_of_Teen_in_home       1568.0      0.497449  ...      1.00       2.0\n",
              "Recency                  1568.0     55.408801  ...     80.00     106.0\n",
              "Discounted_Purchases     1568.0      2.292730  ...      3.00      15.0\n",
              "WebPurchases             1568.0      4.001276  ...      6.00      27.0\n",
              "CatalogPurchases         1568.0      2.665816  ...      4.00      28.0\n",
              "StorePurchases           1568.0      5.703444  ...      8.00      13.0\n",
              "Amount_on_Wines          1568.0    303.190051  ...    499.50    1498.0\n",
              "Amount_on_Fruits         1568.0     29.091199  ...     36.00     202.0\n",
              "Amount_on_MeatProducts   1568.0    168.376276  ...    232.00    1725.0\n",
              "Amount_on_FishProducts   1568.0     37.166454  ...     49.25     259.0\n",
              "Amount_on_SweetProducts  1568.0     26.800383  ...     33.00     263.0\n",
              "Amount_on_GoldProds      1568.0     43.739158  ...     56.00     362.0\n",
              "WebVisitsMonth           1568.0      5.326531  ...      7.00      20.0\n",
              "Cmp3Accepted             1568.0      0.072704  ...      0.00       1.0\n",
              "Cmp4Accepted             1568.0      0.072704  ...      0.00       1.0\n",
              "Cmp5Accepted             1568.0      0.080357  ...      0.00       1.0\n",
              "Cmp1Accepted             1568.0      0.064413  ...      0.00       1.0\n",
              "Cmp2Accepted             1568.0      0.012755  ...      0.00       1.0\n",
              "Any_Complain             1568.0      0.008291  ...      0.00       1.0\n",
              "Response                 1568.0      0.152423  ...      0.00       1.0\n",
              "\n",
              "[23 rows x 8 columns]"
            ]
          },
          "metadata": {},
          "execution_count": 56
        }
      ]
    },
    {
      "cell_type": "code",
      "metadata": {
        "colab": {
          "base_uri": "https://localhost:8080/",
          "height": 387
        },
        "id": "7zgyGYB-fjEl",
        "outputId": "48400637-7af8-4a0d-892b-8d2ec0a28487"
      },
      "source": [
        "#filling the only missing value in train['Disposable_Income']; a displot will tell us how best to fill it\n",
        "\n",
        "sns.displot(train['Disposable_Income'])"
      ],
      "execution_count": null,
      "outputs": [
        {
          "output_type": "execute_result",
          "data": {
            "text/plain": [
              "<seaborn.axisgrid.FacetGrid at 0x7f6ffe701050>"
            ]
          },
          "metadata": {},
          "execution_count": 57
        },
        {
          "output_type": "display_data",
          "data": {
            "image/png": "[encoded data removed]",
            "text/plain": [
              "<Figure size 360x360 with 1 Axes>"
            ]
          },
          "metadata": {
            "needs_background": "light"
          }
        }
      ]
    },
    {
      "cell_type": "code",
      "metadata": {
        "id": "MGbS5fX42vFc",
        "colab": {
          "base_uri": "https://localhost:8080/"
        },
        "outputId": "7896252d-3d19-4289-b066-8a092170a0cf"
      },
      "source": [
        "#Fill missing values with median quartile from describe above\n",
        "\n",
        "train['Disposable_Income'].fillna((train['Disposable_Income'].median()) , inplace = True)\n",
        "test['Disposable_Income'].fillna((test['Disposable_Income'].median()) , inplace = True)\n",
        "#check again to make sure\n",
        "train.isnull().sum()"
      ],
      "execution_count": null,
      "outputs": [
        {
          "output_type": "execute_result",
          "data": {
            "text/plain": [
              "ID                         0\n",
              "Year_of_Birth              0\n",
              "Education_Level            0\n",
              "Marital_Status             0\n",
              "Disposable_Income          0\n",
              "No_of_Kids_in_home         0\n",
              "No_of_Teen_in_home         0\n",
              "Date_Customer              0\n",
              "Recency                    0\n",
              "Discounted_Purchases       0\n",
              "WebPurchases               0\n",
              "CatalogPurchases           0\n",
              "StorePurchases             0\n",
              "Amount_on_Wines            0\n",
              "Amount_on_Fruits           0\n",
              "Amount_on_MeatProducts     0\n",
              "Amount_on_FishProducts     0\n",
              "Amount_on_SweetProducts    0\n",
              "Amount_on_GoldProds        0\n",
              "WebVisitsMonth             0\n",
              "Cmp3Accepted               0\n",
              "Cmp4Accepted               0\n",
              "Cmp5Accepted               0\n",
              "Cmp1Accepted               0\n",
              "Cmp2Accepted               0\n",
              "Any_Complain               0\n",
              "Response                   0\n",
              "dtype: int64"
            ]
          },
          "metadata": {},
          "execution_count": 58
        }
      ]
    },
    {
      "cell_type": "code",
      "metadata": {
        "colab": {
          "base_uri": "https://localhost:8080/",
          "height": 429
        },
        "id": "x2PIa3FKuzTl",
        "outputId": "93bd4e21-6a99-48ba-b726-901c617e5fd7"
      },
      "source": [
        "train[['Response']].value_counts().plot(kind='bar', figsize=(8, 6), title=\"Response Count\")"
      ],
      "execution_count": null,
      "outputs": [
        {
          "output_type": "execute_result",
          "data": {
            "text/plain": [
              "<matplotlib.axes._subplots.AxesSubplot at 0x7f6ffe794790>"
            ]
          },
          "metadata": {},
          "execution_count": 59
        },
        {
          "output_type": "display_data",
          "data": {
            "image/png": "[encoded data removed]",
            "text/plain": [
              "<Figure size 576x432 with 1 Axes>"
            ]
          },
          "metadata": {
            "needs_background": "light"
          }
        }
      ]
    },
    {
      "cell_type": "code",
      "metadata": {
        "colab": {
          "base_uri": "https://localhost:8080/",
          "height": 686
        },
        "id": "SCLCq9Rrt0Bx",
        "outputId": "7ddfdd6c-236c-45d3-ac4c-c04fb1c5dff0"
      },
      "source": [
        "plt.figure(figsize=(16,9))\n",
        "sns.heatmap(train.corr(), annot=True)\n",
        "plt.title(\"Correlation Between Features\", fontsize=23)\n",
        "plt.show()"
      ],
      "execution_count": null,
      "outputs": [
        {
          "output_type": "display_data",
          "data": {
            "image/png": "[encoded data removed]",
            "text/plain": [
              "<Figure size 1152x648 with 2 Axes>"
            ]
          },
          "metadata": {
            "needs_background": "light"
          }
        }
      ]
    },
    {
      "cell_type": "markdown",
      "metadata": {
        "id": "RxT6k91gt1LR"
      },
      "source": [
        "## Feature Engineering and Encoding"
      ]
    },
    {
      "cell_type": "code",
      "metadata": {
        "id": "icsB4keKCLGq"
      },
      "source": [
        "#Year of birth\n",
        "\n",
        "dataframe = [train, test]\n",
        "\n",
        "for data in dataframe:\n",
        "  col = 'Year_of_Birth'\n",
        "  conditions = [data[col] < 1950, (data[col] >= 1950) & (data[col] <= 1960), (data[col] > 1960) & (data[col] <=1970), (data[col] > 1970) & (data[col] <=1980), (data[col] > 1980) & (data[col] <=1990), data[col] > 1990]\n",
        "  choices = [1, 2, 3, 4, 5, 6]\n",
        "  data[\"Age_group\"] = np.select(conditions, choices, default=np.nan).astype(int)\n",
        "\n",
        "for data in dataframe:\n",
        "  data = data.drop(['Year_of_Birth'],axis=1)"
      ],
      "execution_count": null,
      "outputs": []
    },
    {
      "cell_type": "code",
      "metadata": {
        "colab": {
          "base_uri": "https://localhost:8080/"
        },
        "id": "S7pBtoFutkMJ",
        "outputId": "5ad921b5-f510-4a99-9bd8-974e11357658"
      },
      "source": [
        "train['Age_group'].value_counts()"
      ],
      "execution_count": null,
      "outputs": [
        {
          "output_type": "execute_result",
          "data": {
            "text/plain": [
              "4    526\n",
              "3    344\n",
              "2    333\n",
              "5    255\n",
              "1     60\n",
              "6     50\n",
              "Name: Age_group, dtype: int64"
            ]
          },
          "metadata": {},
          "execution_count": 62
        }
      ]
    },
    {
      "cell_type": "code",
      "metadata": {
        "colab": {
          "base_uri": "https://localhost:8080/"
        },
        "id": "Tn0E-Omwtj34",
        "outputId": "9e4cdbb8-428f-4dc9-cad8-36202a3cb641"
      },
      "source": [
        "print(train['Education_Level'].value_counts())\n",
        "print(\"-----------------------------\")\n",
        "\n",
        "print(train['Marital_Status'].value_counts())"
      ],
      "execution_count": null,
      "outputs": [
        {
          "output_type": "stream",
          "name": "stdout",
          "text": [
            "Graduation    802\n",
            "PhD           340\n",
            "Master        246\n",
            "2n Cycle      142\n",
            "Basic          38\n",
            "Name: Education_Level, dtype: int64\n",
            "-----------------------------\n",
            "Married     615\n",
            "Together    409\n",
            "Single      329\n",
            "Divorced    159\n",
            "Widow        50\n",
            "Alone         3\n",
            "YOLO          2\n",
            "Absurd        1\n",
            "Name: Marital_Status, dtype: int64\n"
          ]
        }
      ]
    },
    {
      "cell_type": "code",
      "metadata": {
        "id": "c_iPGCrew1ST"
      },
      "source": [
        "dataframe = [train, test] \n",
        "\n",
        "\n",
        "for data in dataframe:\n",
        "  data['Marital_Status'] = data['Marital_Status'].replace({'Absurd':'Together', 'YOLO':'Married', 'Alone':'Single'})  \n"
      ],
      "execution_count": null,
      "outputs": []
    },
    {
      "cell_type": "code",
      "metadata": {
        "colab": {
          "base_uri": "https://localhost:8080/"
        },
        "id": "4eFqxuNt5GEr",
        "outputId": "429fda12-64aa-4ba9-f2b0-152f9b07db5d"
      },
      "source": [
        "#for Education level\n",
        "def transform_edu(Education):\n",
        "  if Education == 'PhD':\n",
        "    return 1\n",
        "  elif Education == 'Master':\n",
        "    return 2\n",
        "  elif Education == 'Graduation':\n",
        "    return 3\n",
        "  else:\n",
        "    return 4      \n",
        "\n",
        "test['Education'] = test['Education_Level'].apply(transform_edu)\n",
        "train['Education'] = train['Education_Level'].apply(transform_edu)\n",
        "\n",
        "test['Education'].value_counts()"
      ],
      "execution_count": null,
      "outputs": [
        {
          "output_type": "execute_result",
          "data": {
            "text/plain": [
              "3    325\n",
              "2    185\n",
              "1    146\n",
              "4     16\n",
              "Name: Education, dtype: int64"
            ]
          },
          "metadata": {},
          "execution_count": 65
        }
      ]
    },
    {
      "cell_type": "code",
      "metadata": {
        "colab": {
          "base_uri": "https://localhost:8080/"
        },
        "id": "jfVyKicK6tVh",
        "outputId": "a43a8dc3-399b-4668-a3ec-c85f6578435a"
      },
      "source": [
        "#For Marital_Status\n",
        "def transform_martial(status):\n",
        "  if status == 'Married':\n",
        "    return 1\n",
        "  elif status == 'Together':\n",
        "    return 2\n",
        "  elif status == 'Single':\n",
        "    return 3\n",
        "  elif status == 'Divorced':\n",
        "    return 4\n",
        "  else:\n",
        "    return 5        \n",
        "\n",
        "\n",
        "test['Marital_S'] = test['Marital_Status'].apply(transform_martial)\n",
        "train['Marital_S'] = train['Marital_Status'].apply(transform_martial)\n",
        "\n",
        "train['Marital_S'].value_counts()"
      ],
      "execution_count": null,
      "outputs": [
        {
          "output_type": "execute_result",
          "data": {
            "text/plain": [
              "1    617\n",
              "2    410\n",
              "3    332\n",
              "4    159\n",
              "5     50\n",
              "Name: Marital_S, dtype: int64"
            ]
          },
          "metadata": {},
          "execution_count": 66
        }
      ]
    },
    {
      "cell_type": "code",
      "metadata": {
        "colab": {
          "base_uri": "https://localhost:8080/",
          "height": 387
        },
        "id": "oEOpOdJSw1Ov",
        "outputId": "b425e2d0-dfe2-419b-d000-660989fbcde7"
      },
      "source": [
        "#For Disposable_Income\n",
        "\n",
        "sns.displot(train['Disposable_Income'])"
      ],
      "execution_count": null,
      "outputs": [
        {
          "output_type": "execute_result",
          "data": {
            "text/plain": [
              "<seaborn.axisgrid.FacetGrid at 0x7f70084e2850>"
            ]
          },
          "metadata": {},
          "execution_count": 67
        },
        {
          "output_type": "display_data",
          "data": {
            "image/png": "[encoded data removed]",
            "text/plain": [
              "<Figure size 360x360 with 1 Axes>"
            ]
          },
          "metadata": {
            "needs_background": "light"
          }
        }
      ]
    },
    {
      "cell_type": "code",
      "metadata": {
        "colab": {
          "base_uri": "https://localhost:8080/"
        },
        "id": "orV1U8uUw1MN",
        "outputId": "130cfe87-44c7-4d66-e7e8-5b4a73faf478"
      },
      "source": [
        "#For Disposable_Income\n",
        "\n",
        "def convert_amount(amount):\n",
        "  if amount <= 41612.4:\n",
        "    return 1\n",
        "  elif amount <= 60964.2:\n",
        "    return 2\n",
        "  elif amount <= 81493.20:\n",
        "    return 3 \n",
        "  elif amount <= 100000:\n",
        "    return 4\n",
        "  else:\n",
        "    return 5  \n",
        "\n",
        "\n",
        "  \n",
        "train['disposable_amt_cat'] = train['Disposable_Income'].apply(convert_amount)\n",
        "test['disposable_amt_cat'] = test['Disposable_Income'].apply(convert_amount)\n",
        "  \n",
        "\n",
        "train['disposable_amt_cat'].value_counts()"
      ],
      "execution_count": null,
      "outputs": [
        {
          "output_type": "execute_result",
          "data": {
            "text/plain": [
              "2    404\n",
              "3    389\n",
              "1    388\n",
              "4    299\n",
              "5     88\n",
              "Name: disposable_amt_cat, dtype: int64"
            ]
          },
          "metadata": {},
          "execution_count": 68
        }
      ]
    },
    {
      "cell_type": "code",
      "metadata": {
        "colab": {
          "base_uri": "https://localhost:8080/"
        },
        "id": "WbchgZ5nGZvc",
        "outputId": "064205cb-e591-464b-bf15-c462a973be1e"
      },
      "source": [
        "train['No_of_Kids_in_home'].value_counts()"
      ],
      "execution_count": null,
      "outputs": [
        {
          "output_type": "execute_result",
          "data": {
            "text/plain": [
              "0    880\n",
              "1    654\n",
              "2     34\n",
              "Name: No_of_Kids_in_home, dtype: int64"
            ]
          },
          "metadata": {},
          "execution_count": 69
        }
      ]
    },
    {
      "cell_type": "code",
      "metadata": {
        "id": "0za7sBmfA4Ue"
      },
      "source": [
        "#for Date Customer\n",
        "\n",
        "dataframe = [train, test]\n",
        "\n",
        "for data in dataframe:\n",
        "  data['Date_hist'] = data['Date_Customer'].str.split(\"-\", expand=True)[2].astype(int)\n"
      ],
      "execution_count": null,
      "outputs": []
    },
    {
      "cell_type": "code",
      "metadata": {
        "colab": {
          "base_uri": "https://localhost:8080/"
        },
        "id": "tqvgnqJmGNA8",
        "outputId": "cd1a15c9-1f7a-452c-8f0f-3aa5dad34d0b"
      },
      "source": [
        "#For Date_hist\n",
        "def convert_date(Date):\n",
        "  if Date <=2012:\n",
        "    return 1\n",
        "  elif Date <= 2013:\n",
        "    return 2\n",
        "  else:\n",
        "    return 3\n",
        "\n",
        "test['New_Date']  = test['Date_hist'].apply(convert_date) \n",
        "train['New_Date']  = train['Date_hist'].apply(convert_date)      \n",
        "\n",
        "test['New_Date'].value_counts()"
      ],
      "execution_count": null,
      "outputs": [
        {
          "output_type": "execute_result",
          "data": {
            "text/plain": [
              "2    357\n",
              "3    174\n",
              "1    141\n",
              "Name: New_Date, dtype: int64"
            ]
          },
          "metadata": {},
          "execution_count": 71
        }
      ]
    },
    {
      "cell_type": "code",
      "metadata": {
        "colab": {
          "base_uri": "https://localhost:8080/",
          "height": 387
        },
        "id": "Y75H1BUAw1KO",
        "outputId": "4c4c2c5b-aacd-414b-c2cb-1fd62bdb6d09"
      },
      "source": [
        "sns.displot(train['Recency'])"
      ],
      "execution_count": null,
      "outputs": [
        {
          "output_type": "execute_result",
          "data": {
            "text/plain": [
              "<seaborn.axisgrid.FacetGrid at 0x7f6fed7f5a50>"
            ]
          },
          "metadata": {},
          "execution_count": 72
        },
        {
          "output_type": "display_data",
          "data": {
            "image/png": "[encoded data removed]",
            "text/plain": [
              "<Figure size 360x360 with 1 Axes>"
            ]
          },
          "metadata": {
            "needs_background": "light"
          }
        }
      ]
    },
    {
      "cell_type": "code",
      "metadata": {
        "colab": {
          "base_uri": "https://localhost:8080/"
        },
        "id": "sqjcBP1xw1H3",
        "outputId": "300b8e1c-b297-4513-a113-111c55b307c1"
      },
      "source": [
        "def convert_recency(recency):\n",
        "  if recency <= 20:\n",
        "    return 1\n",
        "  elif recency <= 40:\n",
        "    return 2\n",
        "  elif recency <= 60:\n",
        "    return 3\n",
        "  elif recency <= 80:\n",
        "    return 4\n",
        "  else:\n",
        "      return 5     \n",
        "\n",
        "dataframe = [train, test]\n",
        "\n",
        "for data in dataframe:\n",
        "  data['new_Recency'] = data['Recency'].apply(convert_recency)\n",
        "  data = data.drop(['Recency'],axis=1)\n",
        "\n",
        "train['new_Recency'].value_counts()"
      ],
      "execution_count": null,
      "outputs": [
        {
          "output_type": "execute_result",
          "data": {
            "text/plain": [
              "5    384\n",
              "4    327\n",
              "2    306\n",
              "3    304\n",
              "1    247\n",
              "Name: new_Recency, dtype: int64"
            ]
          },
          "metadata": {},
          "execution_count": 73
        }
      ]
    },
    {
      "cell_type": "code",
      "metadata": {
        "colab": {
          "base_uri": "https://localhost:8080/",
          "height": 387
        },
        "id": "q4AOXAI6w1F7",
        "outputId": "83e5e080-1c46-4f2f-d4cb-24584807d601"
      },
      "source": [
        "#Amount spent by user\n",
        "\n",
        "dataframe = [train, test]\n",
        "\n",
        "for data in dataframe:\n",
        "  data['Amount_spent'] = data['Amount_on_FishProducts'] + data['Amount_on_Fruits'] + data['Amount_on_GoldProds'] + data['Amount_on_MeatProducts'] + data['Amount_on_SweetProducts'] + data['Amount_on_Wines']\n",
        "\n",
        "sns.displot(train['Amount_spent'])"
      ],
      "execution_count": null,
      "outputs": [
        {
          "output_type": "execute_result",
          "data": {
            "text/plain": [
              "<seaborn.axisgrid.FacetGrid at 0x7f6fed7f5e10>"
            ]
          },
          "metadata": {},
          "execution_count": 74
        },
        {
          "output_type": "display_data",
          "data": {
            "image/png": "[encoded data removed]",
            "text/plain": [
              "<Figure size 360x360 with 1 Axes>"
            ]
          },
          "metadata": {
            "needs_background": "light"
          }
        }
      ]
    },
    {
      "cell_type": "code",
      "metadata": {
        "colab": {
          "base_uri": "https://localhost:8080/"
        },
        "id": "sgnUtL3dDpD-",
        "outputId": "5f747e77-4ecd-460a-aa59-04b62c16950f"
      },
      "source": [
        "train[train.columns[0:]].corr()['Response'][:].sort_values(ascending=False)"
      ],
      "execution_count": null,
      "outputs": [
        {
          "output_type": "execute_result",
          "data": {
            "text/plain": [
              "Response                   1.000000\n",
              "Cmp5Accepted               0.357647\n",
              "Cmp1Accepted               0.344083\n",
              "Amount_spent               0.284348\n",
              "Amount_on_Wines            0.259173\n",
              "Cmp3Accepted               0.257106\n",
              "Amount_on_MeatProducts     0.247182\n",
              "CatalogPurchases           0.221534\n",
              "Cmp4Accepted               0.202437\n",
              "disposable_amt_cat         0.187138\n",
              "Amount_on_GoldProds        0.174229\n",
              "WebPurchases               0.165538\n",
              "Cmp2Accepted               0.157353\n",
              "Amount_on_Fruits           0.155225\n",
              "Amount_on_SweetProducts    0.133005\n",
              "Disposable_Income          0.130022\n",
              "Amount_on_FishProducts     0.129884\n",
              "Marital_S                  0.111335\n",
              "StorePurchases             0.061446\n",
              "Age_group                  0.024233\n",
              "Year_of_Birth              0.012279\n",
              "Discounted_Purchases       0.000951\n",
              "Any_Complain              -0.019206\n",
              "WebVisitsMonth            -0.023043\n",
              "Education                 -0.075948\n",
              "No_of_Kids_in_home        -0.108558\n",
              "No_of_Teen_in_home        -0.156209\n",
              "Date_hist                 -0.159526\n",
              "New_Date                  -0.159526\n",
              "new_Recency               -0.198029\n",
              "Recency                   -0.201654\n",
              "Name: Response, dtype: float64"
            ]
          },
          "metadata": {},
          "execution_count": 75
        }
      ]
    },
    {
      "cell_type": "code",
      "metadata": {
        "id": "hRotnOTr9Ill"
      },
      "source": [
        "train = train.drop(['ID', 'Education_Level', 'Year_of_Birth', 'Marital_Status', 'Date_Customer', 'Date_hist','Discounted_Purchases', 'Recency'], axis=1)\n",
        "test = test.drop(['ID', 'Education_Level', 'Year_of_Birth', 'Marital_Status', 'Date_Customer', 'Date_hist','Discounted_Purchases', 'Recency'], axis=1)"
      ],
      "execution_count": null,
      "outputs": []
    },
    {
      "cell_type": "code",
      "metadata": {
        "id": "dv3NRvKknWBx"
      },
      "source": [
        "train_majority = train[train.Response==0]\n",
        "train_minority = train[train.Response==1]"
      ],
      "execution_count": null,
      "outputs": []
    },
    {
      "cell_type": "code",
      "metadata": {
        "id": "Xgw4xeG9ndTB"
      },
      "source": [
        "from sklearn.utils import resample\n",
        "# Separate majority and minority classes\n",
        "# Upsample minority class\n",
        "df_minority_upsampled = resample(train_minority, \n",
        "                                 replace=True,     # sample with replacement\n",
        "                                 n_samples=1329,    # to match majority class\n",
        "                                 random_state=123)"
      ],
      "execution_count": null,
      "outputs": []
    },
    {
      "cell_type": "code",
      "metadata": {
        "colab": {
          "base_uri": "https://localhost:8080/"
        },
        "id": "OmQcFI4-njII",
        "outputId": "86c51479-3e99-47a5-b31f-0fed9161d1a5"
      },
      "source": [
        "train_upsampled = pd.concat([train_majority, df_minority_upsampled])\n",
        "train_upsampled['Response'].value_counts()"
      ],
      "execution_count": null,
      "outputs": [
        {
          "output_type": "execute_result",
          "data": {
            "text/plain": [
              "1    1329\n",
              "0    1329\n",
              "Name: Response, dtype: int64"
            ]
          },
          "metadata": {},
          "execution_count": 80
        }
      ]
    },
    {
      "cell_type": "code",
      "metadata": {
        "id": "NMJLB0w4noN8"
      },
      "source": [
        "train_upsampled = train"
      ],
      "execution_count": null,
      "outputs": []
    },
    {
      "cell_type": "code",
      "metadata": {
        "colab": {
          "base_uri": "https://localhost:8080/",
          "height": 226
        },
        "id": "5w8rYivg_X7_",
        "outputId": "0fca150b-f0f3-4cbd-beb9-e32f3e3f58cd"
      },
      "source": [
        "train.head()"
      ],
      "execution_count": null,
      "outputs": [
        {
          "output_type": "execute_result",
          "data": {
            "text/html": [
              "<div>\n",
              "<style scoped>\n",
              "    .dataframe tbody tr th:only-of-type {\n",
              "        vertical-align: middle;\n",
              "    }\n",
              "\n",
              "    .dataframe tbody tr th {\n",
              "        vertical-align: top;\n",
              "    }\n",
              "\n",
              "    .dataframe thead th {\n",
              "        text-align: right;\n",
              "    }\n",
              "</style>\n",
              "<table border=\"1\" class=\"dataframe\">\n",
              "  <thead>\n",
              "    <tr style=\"text-align: right;\">\n",
              "      <th></th>\n",
              "      <th>Disposable_Income</th>\n",
              "      <th>No_of_Kids_in_home</th>\n",
              "      <th>No_of_Teen_in_home</th>\n",
              "      <th>WebPurchases</th>\n",
              "      <th>CatalogPurchases</th>\n",
              "      <th>StorePurchases</th>\n",
              "      <th>Amount_on_Wines</th>\n",
              "      <th>Amount_on_Fruits</th>\n",
              "      <th>Amount_on_MeatProducts</th>\n",
              "      <th>Amount_on_FishProducts</th>\n",
              "      <th>Amount_on_SweetProducts</th>\n",
              "      <th>Amount_on_GoldProds</th>\n",
              "      <th>WebVisitsMonth</th>\n",
              "      <th>Cmp3Accepted</th>\n",
              "      <th>Cmp4Accepted</th>\n",
              "      <th>Cmp5Accepted</th>\n",
              "      <th>Cmp1Accepted</th>\n",
              "      <th>Cmp2Accepted</th>\n",
              "      <th>Any_Complain</th>\n",
              "      <th>Response</th>\n",
              "      <th>Age_group</th>\n",
              "      <th>Education</th>\n",
              "      <th>Marital_S</th>\n",
              "      <th>disposable_amt_cat</th>\n",
              "      <th>New_Date</th>\n",
              "      <th>new_Recency</th>\n",
              "      <th>Amount_spent</th>\n",
              "    </tr>\n",
              "  </thead>\n",
              "  <tbody>\n",
              "    <tr>\n",
              "      <th>0</th>\n",
              "      <td>77504.4</td>\n",
              "      <td>1</td>\n",
              "      <td>1</td>\n",
              "      <td>1</td>\n",
              "      <td>1</td>\n",
              "      <td>4</td>\n",
              "      <td>71</td>\n",
              "      <td>3</td>\n",
              "      <td>16</td>\n",
              "      <td>0</td>\n",
              "      <td>6</td>\n",
              "      <td>20</td>\n",
              "      <td>3</td>\n",
              "      <td>0</td>\n",
              "      <td>0</td>\n",
              "      <td>0</td>\n",
              "      <td>0</td>\n",
              "      <td>0</td>\n",
              "      <td>0</td>\n",
              "      <td>0</td>\n",
              "      <td>2</td>\n",
              "      <td>3</td>\n",
              "      <td>4</td>\n",
              "      <td>3</td>\n",
              "      <td>3</td>\n",
              "      <td>3</td>\n",
              "      <td>116</td>\n",
              "    </tr>\n",
              "    <tr>\n",
              "      <th>1</th>\n",
              "      <td>56784.0</td>\n",
              "      <td>0</td>\n",
              "      <td>1</td>\n",
              "      <td>5</td>\n",
              "      <td>1</td>\n",
              "      <td>8</td>\n",
              "      <td>205</td>\n",
              "      <td>22</td>\n",
              "      <td>111</td>\n",
              "      <td>50</td>\n",
              "      <td>15</td>\n",
              "      <td>19</td>\n",
              "      <td>6</td>\n",
              "      <td>0</td>\n",
              "      <td>0</td>\n",
              "      <td>0</td>\n",
              "      <td>0</td>\n",
              "      <td>0</td>\n",
              "      <td>0</td>\n",
              "      <td>0</td>\n",
              "      <td>2</td>\n",
              "      <td>3</td>\n",
              "      <td>2</td>\n",
              "      <td>2</td>\n",
              "      <td>2</td>\n",
              "      <td>1</td>\n",
              "      <td>422</td>\n",
              "    </tr>\n",
              "    <tr>\n",
              "      <th>2</th>\n",
              "      <td>103714.8</td>\n",
              "      <td>0</td>\n",
              "      <td>0</td>\n",
              "      <td>7</td>\n",
              "      <td>4</td>\n",
              "      <td>7</td>\n",
              "      <td>469</td>\n",
              "      <td>31</td>\n",
              "      <td>873</td>\n",
              "      <td>29</td>\n",
              "      <td>18</td>\n",
              "      <td>37</td>\n",
              "      <td>2</td>\n",
              "      <td>0</td>\n",
              "      <td>0</td>\n",
              "      <td>0</td>\n",
              "      <td>1</td>\n",
              "      <td>0</td>\n",
              "      <td>0</td>\n",
              "      <td>1</td>\n",
              "      <td>3</td>\n",
              "      <td>3</td>\n",
              "      <td>3</td>\n",
              "      <td>5</td>\n",
              "      <td>2</td>\n",
              "      <td>1</td>\n",
              "      <td>1457</td>\n",
              "    </tr>\n",
              "    <tr>\n",
              "      <th>3</th>\n",
              "      <td>46311.6</td>\n",
              "      <td>1</td>\n",
              "      <td>0</td>\n",
              "      <td>4</td>\n",
              "      <td>1</td>\n",
              "      <td>3</td>\n",
              "      <td>56</td>\n",
              "      <td>15</td>\n",
              "      <td>49</td>\n",
              "      <td>17</td>\n",
              "      <td>24</td>\n",
              "      <td>24</td>\n",
              "      <td>8</td>\n",
              "      <td>0</td>\n",
              "      <td>0</td>\n",
              "      <td>0</td>\n",
              "      <td>0</td>\n",
              "      <td>0</td>\n",
              "      <td>0</td>\n",
              "      <td>0</td>\n",
              "      <td>4</td>\n",
              "      <td>2</td>\n",
              "      <td>3</td>\n",
              "      <td>2</td>\n",
              "      <td>2</td>\n",
              "      <td>3</td>\n",
              "      <td>185</td>\n",
              "    </tr>\n",
              "    <tr>\n",
              "      <th>4</th>\n",
              "      <td>87486.0</td>\n",
              "      <td>0</td>\n",
              "      <td>0</td>\n",
              "      <td>3</td>\n",
              "      <td>7</td>\n",
              "      <td>9</td>\n",
              "      <td>412</td>\n",
              "      <td>117</td>\n",
              "      <td>445</td>\n",
              "      <td>181</td>\n",
              "      <td>165</td>\n",
              "      <td>203</td>\n",
              "      <td>1</td>\n",
              "      <td>0</td>\n",
              "      <td>0</td>\n",
              "      <td>0</td>\n",
              "      <td>1</td>\n",
              "      <td>0</td>\n",
              "      <td>0</td>\n",
              "      <td>0</td>\n",
              "      <td>2</td>\n",
              "      <td>3</td>\n",
              "      <td>1</td>\n",
              "      <td>4</td>\n",
              "      <td>3</td>\n",
              "      <td>3</td>\n",
              "      <td>1523</td>\n",
              "    </tr>\n",
              "  </tbody>\n",
              "</table>\n",
              "</div>"
            ],
            "text/plain": [
              "   Disposable_Income  No_of_Kids_in_home  ...  new_Recency  Amount_spent\n",
              "0            77504.4                   1  ...            3           116\n",
              "1            56784.0                   0  ...            1           422\n",
              "2           103714.8                   0  ...            1          1457\n",
              "3            46311.6                   1  ...            3           185\n",
              "4            87486.0                   0  ...            3          1523\n",
              "\n",
              "[5 rows x 27 columns]"
            ]
          },
          "metadata": {},
          "execution_count": 82
        }
      ]
    },
    {
      "cell_type": "code",
      "metadata": {
        "colab": {
          "base_uri": "https://localhost:8080/",
          "height": 226
        },
        "id": "jf-h0cvfCLZZ",
        "outputId": "dc96da20-91c3-4b3d-aceb-468849161de0"
      },
      "source": [
        "test.head()"
      ],
      "execution_count": null,
      "outputs": [
        {
          "output_type": "execute_result",
          "data": {
            "text/html": [
              "<div>\n",
              "<style scoped>\n",
              "    .dataframe tbody tr th:only-of-type {\n",
              "        vertical-align: middle;\n",
              "    }\n",
              "\n",
              "    .dataframe tbody tr th {\n",
              "        vertical-align: top;\n",
              "    }\n",
              "\n",
              "    .dataframe thead th {\n",
              "        text-align: right;\n",
              "    }\n",
              "</style>\n",
              "<table border=\"1\" class=\"dataframe\">\n",
              "  <thead>\n",
              "    <tr style=\"text-align: right;\">\n",
              "      <th></th>\n",
              "      <th>Disposable_Income</th>\n",
              "      <th>No_of_Kids_in_home</th>\n",
              "      <th>No_of_Teen_in_home</th>\n",
              "      <th>WebPurchases</th>\n",
              "      <th>CatalogPurchases</th>\n",
              "      <th>StorePurchases</th>\n",
              "      <th>Amount_on_Wines</th>\n",
              "      <th>Amount_on_Fruits</th>\n",
              "      <th>Amount_on_MeatProducts</th>\n",
              "      <th>Amount_on_FishProducts</th>\n",
              "      <th>Amount_on_SweetProducts</th>\n",
              "      <th>Amount_on_GoldProds</th>\n",
              "      <th>WebVisitsMonth</th>\n",
              "      <th>Cmp3Accepted</th>\n",
              "      <th>Cmp4Accepted</th>\n",
              "      <th>Cmp5Accepted</th>\n",
              "      <th>Cmp1Accepted</th>\n",
              "      <th>Cmp2Accepted</th>\n",
              "      <th>Any_Complain</th>\n",
              "      <th>Age_group</th>\n",
              "      <th>Education</th>\n",
              "      <th>Marital_S</th>\n",
              "      <th>disposable_amt_cat</th>\n",
              "      <th>New_Date</th>\n",
              "      <th>new_Recency</th>\n",
              "      <th>Amount_spent</th>\n",
              "    </tr>\n",
              "  </thead>\n",
              "  <tbody>\n",
              "    <tr>\n",
              "      <th>0</th>\n",
              "      <td>48556.8</td>\n",
              "      <td>0</td>\n",
              "      <td>1</td>\n",
              "      <td>8</td>\n",
              "      <td>2</td>\n",
              "      <td>8</td>\n",
              "      <td>429</td>\n",
              "      <td>20</td>\n",
              "      <td>118</td>\n",
              "      <td>7</td>\n",
              "      <td>23</td>\n",
              "      <td>41</td>\n",
              "      <td>8</td>\n",
              "      <td>0</td>\n",
              "      <td>0</td>\n",
              "      <td>0</td>\n",
              "      <td>0</td>\n",
              "      <td>0</td>\n",
              "      <td>0</td>\n",
              "      <td>2</td>\n",
              "      <td>3</td>\n",
              "      <td>3</td>\n",
              "      <td>2</td>\n",
              "      <td>2</td>\n",
              "      <td>5</td>\n",
              "      <td>638</td>\n",
              "    </tr>\n",
              "    <tr>\n",
              "      <th>1</th>\n",
              "      <td>57499.2</td>\n",
              "      <td>0</td>\n",
              "      <td>1</td>\n",
              "      <td>7</td>\n",
              "      <td>4</td>\n",
              "      <td>6</td>\n",
              "      <td>510</td>\n",
              "      <td>3</td>\n",
              "      <td>26</td>\n",
              "      <td>0</td>\n",
              "      <td>0</td>\n",
              "      <td>75</td>\n",
              "      <td>6</td>\n",
              "      <td>0</td>\n",
              "      <td>1</td>\n",
              "      <td>0</td>\n",
              "      <td>0</td>\n",
              "      <td>0</td>\n",
              "      <td>0</td>\n",
              "      <td>3</td>\n",
              "      <td>3</td>\n",
              "      <td>5</td>\n",
              "      <td>2</td>\n",
              "      <td>1</td>\n",
              "      <td>4</td>\n",
              "      <td>614</td>\n",
              "    </tr>\n",
              "    <tr>\n",
              "      <th>2</th>\n",
              "      <td>17025.6</td>\n",
              "      <td>0</td>\n",
              "      <td>0</td>\n",
              "      <td>2</td>\n",
              "      <td>0</td>\n",
              "      <td>4</td>\n",
              "      <td>7</td>\n",
              "      <td>10</td>\n",
              "      <td>11</td>\n",
              "      <td>16</td>\n",
              "      <td>12</td>\n",
              "      <td>27</td>\n",
              "      <td>6</td>\n",
              "      <td>0</td>\n",
              "      <td>0</td>\n",
              "      <td>0</td>\n",
              "      <td>0</td>\n",
              "      <td>0</td>\n",
              "      <td>0</td>\n",
              "      <td>4</td>\n",
              "      <td>4</td>\n",
              "      <td>1</td>\n",
              "      <td>1</td>\n",
              "      <td>2</td>\n",
              "      <td>3</td>\n",
              "      <td>83</td>\n",
              "    </tr>\n",
              "    <tr>\n",
              "      <th>3</th>\n",
              "      <td>91983.6</td>\n",
              "      <td>0</td>\n",
              "      <td>0</td>\n",
              "      <td>4</td>\n",
              "      <td>7</td>\n",
              "      <td>11</td>\n",
              "      <td>741</td>\n",
              "      <td>66</td>\n",
              "      <td>946</td>\n",
              "      <td>219</td>\n",
              "      <td>189</td>\n",
              "      <td>126</td>\n",
              "      <td>2</td>\n",
              "      <td>0</td>\n",
              "      <td>0</td>\n",
              "      <td>1</td>\n",
              "      <td>1</td>\n",
              "      <td>0</td>\n",
              "      <td>0</td>\n",
              "      <td>3</td>\n",
              "      <td>3</td>\n",
              "      <td>2</td>\n",
              "      <td>4</td>\n",
              "      <td>2</td>\n",
              "      <td>5</td>\n",
              "      <td>2287</td>\n",
              "    </tr>\n",
              "    <tr>\n",
              "      <th>4</th>\n",
              "      <td>78235.2</td>\n",
              "      <td>0</td>\n",
              "      <td>2</td>\n",
              "      <td>7</td>\n",
              "      <td>6</td>\n",
              "      <td>11</td>\n",
              "      <td>748</td>\n",
              "      <td>22</td>\n",
              "      <td>181</td>\n",
              "      <td>12</td>\n",
              "      <td>0</td>\n",
              "      <td>200</td>\n",
              "      <td>5</td>\n",
              "      <td>1</td>\n",
              "      <td>0</td>\n",
              "      <td>0</td>\n",
              "      <td>0</td>\n",
              "      <td>0</td>\n",
              "      <td>0</td>\n",
              "      <td>2</td>\n",
              "      <td>3</td>\n",
              "      <td>2</td>\n",
              "      <td>3</td>\n",
              "      <td>2</td>\n",
              "      <td>3</td>\n",
              "      <td>1163</td>\n",
              "    </tr>\n",
              "  </tbody>\n",
              "</table>\n",
              "</div>"
            ],
            "text/plain": [
              "   Disposable_Income  No_of_Kids_in_home  ...  new_Recency  Amount_spent\n",
              "0            48556.8                   0  ...            5           638\n",
              "1            57499.2                   0  ...            4           614\n",
              "2            17025.6                   0  ...            3            83\n",
              "3            91983.6                   0  ...            5          2287\n",
              "4            78235.2                   0  ...            3          1163\n",
              "\n",
              "[5 rows x 26 columns]"
            ]
          },
          "metadata": {},
          "execution_count": 83
        }
      ]
    },
    {
      "cell_type": "code",
      "metadata": {
        "colab": {
          "base_uri": "https://localhost:8080/"
        },
        "id": "h5kkjk6fCTR5",
        "outputId": "8b0e4559-6545-4632-c046-bc713c9fa782"
      },
      "source": [
        "test.isnull().sum()"
      ],
      "execution_count": null,
      "outputs": [
        {
          "output_type": "execute_result",
          "data": {
            "text/plain": [
              "Disposable_Income          0\n",
              "No_of_Kids_in_home         0\n",
              "No_of_Teen_in_home         0\n",
              "WebPurchases               0\n",
              "CatalogPurchases           0\n",
              "StorePurchases             0\n",
              "Amount_on_Wines            0\n",
              "Amount_on_Fruits           0\n",
              "Amount_on_MeatProducts     0\n",
              "Amount_on_FishProducts     0\n",
              "Amount_on_SweetProducts    0\n",
              "Amount_on_GoldProds        0\n",
              "WebVisitsMonth             0\n",
              "Cmp3Accepted               0\n",
              "Cmp4Accepted               0\n",
              "Cmp5Accepted               0\n",
              "Cmp1Accepted               0\n",
              "Cmp2Accepted               0\n",
              "Any_Complain               0\n",
              "Age_group                  0\n",
              "Education                  0\n",
              "Marital_S                  0\n",
              "disposable_amt_cat         0\n",
              "New_Date                   0\n",
              "new_Recency                0\n",
              "Amount_spent               0\n",
              "dtype: int64"
            ]
          },
          "metadata": {},
          "execution_count": 84
        }
      ]
    },
    {
      "cell_type": "code",
      "metadata": {
        "colab": {
          "base_uri": "https://localhost:8080/"
        },
        "id": "-Aheu7I7ACgO",
        "outputId": "b03dea6f-3cbe-4ead-eaf8-38db99c7cfa8"
      },
      "source": [
        "train.shape, test.shape"
      ],
      "execution_count": null,
      "outputs": [
        {
          "output_type": "execute_result",
          "data": {
            "text/plain": [
              "((1568, 27), (672, 26))"
            ]
          },
          "metadata": {},
          "execution_count": 85
        }
      ]
    },
    {
      "cell_type": "markdown",
      "metadata": {
        "id": "T0jD7dh5JFCJ"
      },
      "source": [
        "# Modelling"
      ]
    },
    {
      "cell_type": "code",
      "metadata": {
        "id": "iul9Sb4Pw0_s"
      },
      "source": [
        "y = train['Response']\n",
        "X = train.drop(['Response'], axis=1)\n",
        "\n",
        "X_test = test"
      ],
      "execution_count": null,
      "outputs": []
    },
    {
      "cell_type": "code",
      "metadata": {
        "id": "U0QRIGiRw07s",
        "colab": {
          "base_uri": "https://localhost:8080/"
        },
        "outputId": "bb12126e-8ed3-4048-99bc-46ba4bcaf972"
      },
      "source": [
        "from sklearn.model_selection import train_test_split\n",
        "from sklearn.ensemble import RandomForestClassifier\n",
        "from sklearn.metrics import f1_score,confusion_matrix\n",
        "from sklearn.metrics import accuracy_score\n",
        "\n",
        "# split data train 80 % and test 20 %\n",
        "x_train, x_test, y_train, y_test = train_test_split(X, y, test_size=0.2, random_state=42)\n",
        "\n",
        "#random forest classifier with n_estimators=10 (default)\n",
        "clf_rf = RandomForestClassifier(random_state=43)      \n",
        "clr_rf = clf_rf.fit(x_train,y_train)\n",
        "\n",
        "pred = clf_rf.predict(x_test)\n",
        "accuracy = accuracy_score(y_test, pred)\n",
        "print('Accuracy is: ',accuracy)"
      ],
      "execution_count": null,
      "outputs": [
        {
          "output_type": "stream",
          "name": "stdout",
          "text": [
            "Accuracy is:  0.8949044585987261\n"
          ]
        }
      ]
    },
    {
      "cell_type": "code",
      "metadata": {
        "id": "GPFfAB_Iw03V"
      },
      "source": [
        "pred_X = clf_rf.predict(X_test)"
      ],
      "execution_count": null,
      "outputs": []
    },
    {
      "cell_type": "code",
      "metadata": {
        "id": "3evb-sTqw01C",
        "colab": {
          "base_uri": "https://localhost:8080/",
          "height": 206
        },
        "outputId": "6f343765-b030-45a8-90fe-7e4ac0e03585"
      },
      "source": [
        "Submission = pd.DataFrame({'ID': ID,\n",
        "                            'Prediction': pred_X})\n",
        "\n",
        "Submission.to_csv(\"baseline_10\", index=False)\n",
        "Submission.head()"
      ],
      "execution_count": null,
      "outputs": [
        {
          "output_type": "execute_result",
          "data": {
            "text/html": [
              "<div>\n",
              "<style scoped>\n",
              "    .dataframe tbody tr th:only-of-type {\n",
              "        vertical-align: middle;\n",
              "    }\n",
              "\n",
              "    .dataframe tbody tr th {\n",
              "        vertical-align: top;\n",
              "    }\n",
              "\n",
              "    .dataframe thead th {\n",
              "        text-align: right;\n",
              "    }\n",
              "</style>\n",
              "<table border=\"1\" class=\"dataframe\">\n",
              "  <thead>\n",
              "    <tr style=\"text-align: right;\">\n",
              "      <th></th>\n",
              "      <th>ID</th>\n",
              "      <th>Prediction</th>\n",
              "    </tr>\n",
              "  </thead>\n",
              "  <tbody>\n",
              "    <tr>\n",
              "      <th>0</th>\n",
              "      <td>ID_ZPMABNVX</td>\n",
              "      <td>0</td>\n",
              "    </tr>\n",
              "    <tr>\n",
              "      <th>1</th>\n",
              "      <td>ID_WFE91NAA</td>\n",
              "      <td>0</td>\n",
              "    </tr>\n",
              "    <tr>\n",
              "      <th>2</th>\n",
              "      <td>ID_JV11RBRK</td>\n",
              "      <td>0</td>\n",
              "    </tr>\n",
              "    <tr>\n",
              "      <th>3</th>\n",
              "      <td>ID_6B7SVKY9</td>\n",
              "      <td>1</td>\n",
              "    </tr>\n",
              "    <tr>\n",
              "      <th>4</th>\n",
              "      <td>ID_GOVUZ545</td>\n",
              "      <td>0</td>\n",
              "    </tr>\n",
              "  </tbody>\n",
              "</table>\n",
              "</div>"
            ],
            "text/plain": [
              "            ID  Prediction\n",
              "0  ID_ZPMABNVX           0\n",
              "1  ID_WFE91NAA           0\n",
              "2  ID_JV11RBRK           0\n",
              "3  ID_6B7SVKY9           1\n",
              "4  ID_GOVUZ545           0"
            ]
          },
          "metadata": {},
          "execution_count": 89
        }
      ]
    },
    {
      "cell_type": "code",
      "metadata": {
        "id": "tuM2QIB4w0y7",
        "colab": {
          "base_uri": "https://localhost:8080/"
        },
        "outputId": "07ea669e-df82-465d-f869-a41d963d9651"
      },
      "source": [
        "Submission['Prediction'].value_counts()"
      ],
      "execution_count": null,
      "outputs": [
        {
          "output_type": "execute_result",
          "data": {
            "text/plain": [
              "0    628\n",
              "1     44\n",
              "Name: Prediction, dtype: int64"
            ]
          },
          "metadata": {},
          "execution_count": 90
        }
      ]
    },
    {
      "cell_type": "code",
      "source": [
        "study = optuna.create_study(direction=\"maximize\")\n",
        "study.optimize(objective, n_trials=10000)"
      ],
      "metadata": {
        "id": "dA5v7E0ga-oM"
      },
      "execution_count": null,
      "outputs": []
    },
    {
      "cell_type": "markdown",
      "metadata": {
        "id": "1BVYUygfJ6xE"
      },
      "source": [
        "## Model 2"
      ]
    },
    {
      "cell_type": "code",
      "metadata": {
        "id": "fDIjeb5NL319"
      },
      "source": [
        "from sklearn.model_selection import cross_validate,GridSearchCV\n",
        "from sklearn.metrics import confusion_matrix , accuracy_score\n",
        "from xgboost import XGBClassifier\n",
        "reg=XGBClassifier()"
      ],
      "execution_count": null,
      "outputs": []
    },
    {
      "cell_type": "code",
      "metadata": {
        "colab": {
          "base_uri": "https://localhost:8080/"
        },
        "id": "ZXZlzqy4L3wu",
        "outputId": "04a24f1e-ccd0-4b4b-fe02-72108a19e86c"
      },
      "source": [
        "params={\"n_estimators\":[67,70,100,120],'reg_lambda':[2,1],'gamma':[0,0.3,0.2,0.1]\n",
        "       ,'eta':[0.06,0.05,0.04]\n",
        "        ,\"max_depth\":[3,5],'objective':['binary:logistic']}\n",
        "\n",
        "clf=GridSearchCV(reg,params,cv=10,n_jobs=-1,verbose=1)\n",
        "clf.fit(x_train,y_train)"
      ],
      "execution_count": null,
      "outputs": [
        {
          "output_type": "stream",
          "name": "stdout",
          "text": [
            "Fitting 10 folds for each of 192 candidates, totalling 1920 fits\n"
          ]
        },
        {
          "output_type": "stream",
          "name": "stderr",
          "text": [
            "[Parallel(n_jobs=-1)]: Using backend LokyBackend with 2 concurrent workers.\n",
            "[Parallel(n_jobs=-1)]: Done  46 tasks      | elapsed:    4.8s\n",
            "[Parallel(n_jobs=-1)]: Done 196 tasks      | elapsed:   23.1s\n",
            "[Parallel(n_jobs=-1)]: Done 446 tasks      | elapsed:   52.7s\n",
            "[Parallel(n_jobs=-1)]: Done 796 tasks      | elapsed:  1.6min\n",
            "[Parallel(n_jobs=-1)]: Done 1246 tasks      | elapsed:  2.5min\n",
            "[Parallel(n_jobs=-1)]: Done 1796 tasks      | elapsed:  3.6min\n",
            "[Parallel(n_jobs=-1)]: Done 1920 out of 1920 | elapsed:  3.9min finished\n"
          ]
        },
        {
          "output_type": "execute_result",
          "data": {
            "text/plain": [
              "GridSearchCV(cv=10, error_score=nan,\n",
              "             estimator=XGBClassifier(base_score=0.5, booster='gbtree',\n",
              "                                     colsample_bylevel=1, colsample_bynode=1,\n",
              "                                     colsample_bytree=1, gamma=0,\n",
              "                                     learning_rate=0.1, max_delta_step=0,\n",
              "                                     max_depth=3, min_child_weight=1,\n",
              "                                     missing=None, n_estimators=100, n_jobs=1,\n",
              "                                     nthread=None, objective='binary:logistic',\n",
              "                                     random_state=0, reg_alpha=0, reg_lambda=1,\n",
              "                                     scale_pos_weight=1, seed=None, silent=None,\n",
              "                                     subsample=1, verbosity=1),\n",
              "             iid='deprecated', n_jobs=-1,\n",
              "             param_grid={'eta': [0.06, 0.05, 0.04], 'gamma': [0, 0.3, 0.2, 0.1],\n",
              "                         'max_depth': [3, 5],\n",
              "                         'n_estimators': [67, 70, 100, 120],\n",
              "                         'objective': ['binary:logistic'],\n",
              "                         'reg_lambda': [2, 1]},\n",
              "             pre_dispatch='2*n_jobs', refit=True, return_train_score=False,\n",
              "             scoring=None, verbose=1)"
            ]
          },
          "metadata": {},
          "execution_count": 92
        }
      ]
    },
    {
      "cell_type": "code",
      "metadata": {
        "id": "0ViYwfosNVaj",
        "colab": {
          "base_uri": "https://localhost:8080/"
        },
        "outputId": "de2cdce0-61a0-4a60-8cbe-1d300d3cbb49"
      },
      "source": [
        "ypred=clf.predict(x_train)\n",
        "pred_X=clf.predict(X_test)\n",
        "print(accuracy_score(ypred,y_train))\n",
        "clf.best_params_"
      ],
      "execution_count": null,
      "outputs": [
        {
          "output_type": "stream",
          "name": "stdout",
          "text": [
            "0.9258373205741627\n"
          ]
        },
        {
          "output_type": "execute_result",
          "data": {
            "text/plain": [
              "{'eta': 0.06,\n",
              " 'gamma': 0.3,\n",
              " 'max_depth': 3,\n",
              " 'n_estimators': 67,\n",
              " 'objective': 'binary:logistic',\n",
              " 'reg_lambda': 2}"
            ]
          },
          "metadata": {},
          "execution_count": 93
        }
      ]
    },
    {
      "cell_type": "code",
      "metadata": {
        "id": "_YuokD1sNVVh",
        "colab": {
          "base_uri": "https://localhost:8080/",
          "height": 206
        },
        "outputId": "b0f95c7f-73a6-4943-b46f-0eb090100d3c"
      },
      "source": [
        "Submission = pd.DataFrame({'ID': ID,\n",
        "                            'Prediction': pred_X})\n",
        "\n",
        "Submission.to_csv(\"baseline_12.csv\", index=False)\n",
        "Submission.head()"
      ],
      "execution_count": null,
      "outputs": [
        {
          "output_type": "execute_result",
          "data": {
            "text/html": [
              "<div>\n",
              "<style scoped>\n",
              "    .dataframe tbody tr th:only-of-type {\n",
              "        vertical-align: middle;\n",
              "    }\n",
              "\n",
              "    .dataframe tbody tr th {\n",
              "        vertical-align: top;\n",
              "    }\n",
              "\n",
              "    .dataframe thead th {\n",
              "        text-align: right;\n",
              "    }\n",
              "</style>\n",
              "<table border=\"1\" class=\"dataframe\">\n",
              "  <thead>\n",
              "    <tr style=\"text-align: right;\">\n",
              "      <th></th>\n",
              "      <th>ID</th>\n",
              "      <th>Prediction</th>\n",
              "    </tr>\n",
              "  </thead>\n",
              "  <tbody>\n",
              "    <tr>\n",
              "      <th>0</th>\n",
              "      <td>ID_ZPMABNVX</td>\n",
              "      <td>0</td>\n",
              "    </tr>\n",
              "    <tr>\n",
              "      <th>1</th>\n",
              "      <td>ID_WFE91NAA</td>\n",
              "      <td>0</td>\n",
              "    </tr>\n",
              "    <tr>\n",
              "      <th>2</th>\n",
              "      <td>ID_JV11RBRK</td>\n",
              "      <td>0</td>\n",
              "    </tr>\n",
              "    <tr>\n",
              "      <th>3</th>\n",
              "      <td>ID_6B7SVKY9</td>\n",
              "      <td>0</td>\n",
              "    </tr>\n",
              "    <tr>\n",
              "      <th>4</th>\n",
              "      <td>ID_GOVUZ545</td>\n",
              "      <td>0</td>\n",
              "    </tr>\n",
              "  </tbody>\n",
              "</table>\n",
              "</div>"
            ],
            "text/plain": [
              "            ID  Prediction\n",
              "0  ID_ZPMABNVX           0\n",
              "1  ID_WFE91NAA           0\n",
              "2  ID_JV11RBRK           0\n",
              "3  ID_6B7SVKY9           0\n",
              "4  ID_GOVUZ545           0"
            ]
          },
          "metadata": {},
          "execution_count": 94
        }
      ]
    },
    {
      "cell_type": "code",
      "metadata": {
        "id": "MRhXIHk9NVIi",
        "colab": {
          "base_uri": "https://localhost:8080/"
        },
        "outputId": "3dc0e0ea-95d2-4365-8443-b9d94369b4ae"
      },
      "source": [
        "Submission['Prediction'].value_counts()"
      ],
      "execution_count": null,
      "outputs": [
        {
          "output_type": "execute_result",
          "data": {
            "text/plain": [
              "0    637\n",
              "1     35\n",
              "Name: Prediction, dtype: int64"
            ]
          },
          "metadata": {},
          "execution_count": 95
        }
      ]
    },
    {
      "cell_type": "code",
      "metadata": {
        "id": "4xn38dQHoKE9"
      },
      "source": [
        "from sklearn.datasets import make_classification\n",
        "from sklearn.model_selection import cross_val_score\n",
        "from sklearn.model_selection import RepeatedStratifiedKFold\n",
        "from sklearn.linear_model import LogisticRegression\n",
        "from sklearn.neighbors import KNeighborsClassifier\n",
        "from sklearn.tree import DecisionTreeClassifier\n",
        "from sklearn.svm import SVC\n",
        "from sklearn.naive_bayes import GaussianNB"
      ],
      "execution_count": null,
      "outputs": []
    },
    {
      "cell_type": "code",
      "metadata": {
        "id": "p7dZXKs0oOnA"
      },
      "source": [
        "def get_models():\n",
        "  models = dict()\n",
        "  models['lr'] = LogisticRegression()\n",
        "  models['knn'] = KNeighborsClassifier()\n",
        "  models['cart'] = DecisionTreeClassifier()\n",
        "  models['svm'] = SVC()\n",
        "  models['bayes'] = GaussianNB()\n",
        "  return models"
      ],
      "execution_count": null,
      "outputs": []
    },
    {
      "cell_type": "code",
      "metadata": {
        "id": "_bXc-xh-oUSI"
      },
      "source": [
        "def evaluate_model(model, X_train, y_train):\n",
        "  cv = RepeatedStratifiedKFold(n_splits=10, n_repeats=3, random_state=1)\n",
        "  scores = cross_val_score(model, x_train,y_train, scoring='accuracy', cv=cv, n_jobs=-1, error_score='raise')\n",
        "  return scores"
      ],
      "execution_count": null,
      "outputs": []
    },
    {
      "cell_type": "code",
      "metadata": {
        "colab": {
          "base_uri": "https://localhost:8080/"
        },
        "id": "OW8VyFtooZxQ",
        "outputId": "79e11a63-f597-499c-a028-2922ddfafe4d"
      },
      "source": [
        "# get the models to evaluate\n",
        "from numpy import mean\n",
        "from numpy import std\n",
        "models = get_models()\n",
        "# evaluate the models and store results\n",
        "results, names = list(), list()\n",
        "for name, model in models.items():\n",
        "\tscores = evaluate_model(model, x_train, y_train)\n",
        "\tresults.append(scores)\n",
        "\tnames.append(name)\n",
        "\tprint('>%s %.3f (%.3f)' % (name, mean(scores), std(scores)))"
      ],
      "execution_count": null,
      "outputs": [
        {
          "output_type": "stream",
          "name": "stdout",
          "text": [
            ">lr 0.844 (0.015)\n",
            ">knn 0.825 (0.019)\n",
            ">cart 0.833 (0.029)\n",
            ">svm 0.843 (0.003)\n",
            ">bayes 0.747 (0.037)\n"
          ]
        }
      ]
    },
    {
      "cell_type": "code",
      "metadata": {
        "id": "n6Fki1TnobRq"
      },
      "source": [
        "def get_stacking():\n",
        "  level0 = list()\n",
        "  level0.append(('lr', LogisticRegression()))\n",
        "  level0.append(('knn', KNeighborsClassifier()))\n",
        "  level0.append(('cart', DecisionTreeClassifier()))\n",
        "  level0.append(('svm', SVC()))\n",
        "  level0.append(('bayes', GaussianNB()))\n",
        "  level1 = LogisticRegression()\n",
        "  model = StackingClassifier(estimators=level0, final_estimator=level1, cv=5)\n",
        "  return model"
      ],
      "execution_count": null,
      "outputs": []
    },
    {
      "cell_type": "code",
      "metadata": {
        "colab": {
          "base_uri": "https://localhost:8080/"
        },
        "id": "AwmgZiPAoj74",
        "outputId": "9fe661ff-2afb-4123-d36c-a37c39b3fe06"
      },
      "source": [
        "model.fit(x_train,y_train)"
      ],
      "execution_count": null,
      "outputs": [
        {
          "output_type": "execute_result",
          "data": {
            "text/plain": [
              "GaussianNB(priors=None, var_smoothing=1e-09)"
            ]
          },
          "metadata": {},
          "execution_count": 105
        }
      ]
    },
    {
      "cell_type": "code",
      "metadata": {
        "colab": {
          "base_uri": "https://localhost:8080/"
        },
        "id": "1yfhKOCuoqx8",
        "outputId": "427ea2e7-97be-44b2-83af-da93593a93b0"
      },
      "source": [
        "from sklearn.metrics import accuracy_score\n",
        "accuracy = accuracy_score(y_test, pred)\n",
        "print('Accuracy is: ',accuracy)"
      ],
      "execution_count": null,
      "outputs": [
        {
          "output_type": "stream",
          "name": "stdout",
          "text": [
            "Accuracy is:  0.8949044585987261\n"
          ]
        }
      ]
    },
    {
      "cell_type": "code",
      "metadata": {
        "id": "N3fq99-BrNAn"
      },
      "source": [
        "pred_X = model.predict(X_test)"
      ],
      "execution_count": null,
      "outputs": []
    },
    {
      "cell_type": "code",
      "metadata": {
        "colab": {
          "base_uri": "https://localhost:8080/",
          "height": 206
        },
        "id": "Ao29ha2trh-b",
        "outputId": "b53d279b-dd75-4e54-9744-22f51982057c"
      },
      "source": [
        "Submission = pd.DataFrame({'ID': ID,\n",
        "                            'Prediction': pred_X})\n",
        "\n",
        "Submission.to_csv(\"baseline_13.csv\", index=False)\n",
        "Submission.head()"
      ],
      "execution_count": null,
      "outputs": [
        {
          "output_type": "execute_result",
          "data": {
            "text/html": [
              "<div>\n",
              "<style scoped>\n",
              "    .dataframe tbody tr th:only-of-type {\n",
              "        vertical-align: middle;\n",
              "    }\n",
              "\n",
              "    .dataframe tbody tr th {\n",
              "        vertical-align: top;\n",
              "    }\n",
              "\n",
              "    .dataframe thead th {\n",
              "        text-align: right;\n",
              "    }\n",
              "</style>\n",
              "<table border=\"1\" class=\"dataframe\">\n",
              "  <thead>\n",
              "    <tr style=\"text-align: right;\">\n",
              "      <th></th>\n",
              "      <th>ID</th>\n",
              "      <th>Prediction</th>\n",
              "    </tr>\n",
              "  </thead>\n",
              "  <tbody>\n",
              "    <tr>\n",
              "      <th>0</th>\n",
              "      <td>ID_ZPMABNVX</td>\n",
              "      <td>0</td>\n",
              "    </tr>\n",
              "    <tr>\n",
              "      <th>1</th>\n",
              "      <td>ID_WFE91NAA</td>\n",
              "      <td>0</td>\n",
              "    </tr>\n",
              "    <tr>\n",
              "      <th>2</th>\n",
              "      <td>ID_JV11RBRK</td>\n",
              "      <td>0</td>\n",
              "    </tr>\n",
              "    <tr>\n",
              "      <th>3</th>\n",
              "      <td>ID_6B7SVKY9</td>\n",
              "      <td>1</td>\n",
              "    </tr>\n",
              "    <tr>\n",
              "      <th>4</th>\n",
              "      <td>ID_GOVUZ545</td>\n",
              "      <td>1</td>\n",
              "    </tr>\n",
              "  </tbody>\n",
              "</table>\n",
              "</div>"
            ],
            "text/plain": [
              "            ID  Prediction\n",
              "0  ID_ZPMABNVX           0\n",
              "1  ID_WFE91NAA           0\n",
              "2  ID_JV11RBRK           0\n",
              "3  ID_6B7SVKY9           1\n",
              "4  ID_GOVUZ545           1"
            ]
          },
          "metadata": {},
          "execution_count": 108
        }
      ]
    },
    {
      "cell_type": "markdown",
      "source": [
        "## Hyperparameter Tuning"
      ],
      "metadata": {
        "id": "XCGIZ_rhahxS"
      }
    },
    {
      "cell_type": "code",
      "source": [
        "pip install optuna\n",
        "import optuna"
      ],
      "metadata": {
        "id": "ovjyVZCjagMC"
      },
      "execution_count": null,
      "outputs": []
    },
    {
      "cell_type": "code",
      "source": [
        "X = train_df[features]\n",
        "y = train_df[target]"
      ],
      "metadata": {
        "id": "sRjF48CjagN0"
      },
      "execution_count": null,
      "outputs": []
    },
    {
      "cell_type": "code",
      "source": [
        "def objective(trial):\n",
        "    oof_f1=[]\n",
        "    oof_predictions=[]\n",
        "\n",
        "\n",
        "    param = {}\n",
        "#     param['objective'] = \"Logloss\"\n",
        "    param['learning_rate'] = trial.suggest_discrete_uniform(\"learning_rate\", 0.001, 0.1, 0.001)\n",
        "    param['depth'] = trial.suggest_int('depth', 3, 15)\n",
        "    param['l2_leaf_reg'] = trial.suggest_discrete_uniform('l2_leaf_reg', 1.0, 5.5, 0.5)\n",
        "    param['min_child_samples'] = trial.suggest_categorical('min_child_samples', [1, 4, 8, 16, 32])\n",
        "    param['iterations'] = trial.suggest_discrete_uniform(\"iterations\", 200, 2000, 50)\n",
        "    param['use_best_model'] = True\n",
        "    param[\"colsample_bylevel\"] =  trial.suggest_float(\"colsample_bylevel\", 0.01, 0.1)\n",
        "    param['random_state'] = 0\n",
        "    param['scale_pos_weight'] = trial.suggest_int('scale_pos_weight', 1, 10)\n",
        "    param['bootstrap_type'] = trial.suggest_categorical(\"bootstrap_type\", [\"Bayesian\", \"Bernoulli\", \"MVS\"])\n",
        "    param['logging_level'] = 'Silent'\n",
        "\n",
        "\n",
        "\n",
        "    fold=StratifiedKFold(n_splits=5)#15#5#10\n",
        "    i=1\n",
        "    for train_index, test_index in fold.split(X,y):\n",
        "        \n",
        "        X_train, X_test = X.iloc[train_index], X.iloc[test_index]\n",
        "        y_train, y_test = y.iloc[train_index], y.iloc[test_index]\n",
        "        model = CatBoostClassifier(**param)\n",
        "#         model = XGBClassifier(**param)\n",
        "    \n",
        "\n",
        "        model.fit(X_train,y_train,eval_set=[(X_train,y_train),(X_test, y_test)], early_stopping_rounds=200, verbose = False)#erly100\n",
        "        preds=model.predict(X_test)\n",
        "\n",
        "        oof_f1.append(f1_score(y_test,preds))\n",
        "\n",
        "    return np.mean(oof_f1)"
      ],
      "metadata": {
        "id": "xdIphnPda6Ay"
      },
      "execution_count": null,
      "outputs": []
    },
    {
      "cell_type": "code",
      "metadata": {
        "id": "gB9O6u39vJGR"
      },
      "source": [
        "print(\"Number of finished trials: {}\".format(len(study.trials)))\n",
        "\n",
        "print(\"Best trial:\")\n",
        "trial = study.best_trial\n",
        "\n",
        "print(\"  Value: {}\".format(trial.value))\n",
        "\n",
        "print(\"  Params: \")\n",
        "for key, value in trial.params.items():\n",
        "    print(\"    {}: {}\".format(key, value))"
      ],
      "execution_count": null,
      "outputs": []
    },
    {
      "cell_type": "code",
      "source": [
        "def objective(trial):\n",
        "    oof_f1=[]\n",
        "    oof_predictions=[]\n",
        "\n",
        "\n",
        "    param = {}\n",
        "    param[\"learning_rate\"] = trial.suggest_float(\"learning_rate\", 1e-2, 0.25, log=True)\n",
        "#     param['reg_lambda'] = trial.suggest_loguniform(\"reg_lambda\", 1e-8, 100.0)\n",
        "#     param['reg_alpha'] = trial.suggest_loguniform(\"reg_alpha\", 1e-8, 100.0)\n",
        "    param['subsample'] = trial.suggest_float(\"subsample\", 0.1, 1.0)\n",
        "    param['colsample_bytree'] = trial.suggest_float(\"colsample_bytree\", 0.1, 1.0)\n",
        "    param['max_depth'] = trial.suggest_int(\"max_depth\", 5, 20)\n",
        "    param['scale_pos_weight'] = trial.suggest_int('scale_pos_weight', 3, 10)\n",
        "\n",
        "\n",
        "\n",
        "\n",
        "    fold=StratifiedKFold(n_splits=5)#15#5#10\n",
        "    i=1\n",
        "    for train_index, test_index in fold.split(X,y):\n",
        "        \n",
        "        X_train, X_test = X.iloc[train_index], X.iloc[test_index]\n",
        "        y_train, y_test = y.iloc[train_index], y.iloc[test_index]\n",
        "\n",
        "        model = LGBMClassifier(**param ,n_estimators=10000)\n",
        "\n",
        "    \n",
        "        model.fit(X_train,y_train,eval_set=[(X_train,y_train),(X_test, y_test)], early_stopping_rounds=300, verbose = False)#erly100\n",
        "        preds=model.predict(X_test)\n",
        "        oof_f1.append(f1_score(y_test,preds))\n",
        "\n",
        "    \n",
        "\n",
        "    return np.mean(oof_f1)"
      ],
      "metadata": {
        "id": "4QOddk9XbpgV"
      },
      "execution_count": null,
      "outputs": []
    },
    {
      "cell_type": "code",
      "source": [
        "study = optuna.create_study(direction=\"maximize\")\n",
        "study.optimize(objective, n_trials=10000)"
      ],
      "metadata": {
        "id": "zuyYO130bxYK"
      },
      "execution_count": null,
      "outputs": []
    },
    {
      "cell_type": "code",
      "source": [
        "print(\"Number of finished trials: {}\".format(len(study.trials)))\n",
        "\n",
        "print(\"Best trial:\")\n",
        "trial = study.best_trial\n",
        "\n",
        "print(\"  Value: {}\".format(trial.value))\n",
        "\n",
        "print(\"  Params: \")\n",
        "for key, value in trial.params.items():\n",
        "    print(\"    {}: {}\".format(key, value))"
      ],
      "metadata": {
        "id": "LSF72_NjbxaO"
      },
      "execution_count": null,
      "outputs": []
    },
    {
      "cell_type": "code",
      "source": [
        "trial.params"
      ],
      "metadata": {
        "id": "apghV9Rlb7tF"
      },
      "execution_count": null,
      "outputs": []
    },
    {
      "cell_type": "code",
      "source": [
        "oof_f1=[]\n",
        "lgb_oof_predictions=[]\n",
        "\n",
        "\n",
        "param = trial.params\n",
        "\n",
        "\n",
        "\n",
        "fold=StratifiedKFold(n_splits=5)#15#5#10\n",
        "i=1\n",
        "\n",
        "for train_index, test_index in fold.split(X_,y_):\n",
        "        \n",
        "    X_train, X_test = X_.iloc[train_index], X_.iloc[test_index]\n",
        "    y_train, y_test = y_.iloc[train_index], y_.iloc[test_index]\n",
        "    \n",
        "    model = LGBMClassifier(**param ,n_estimators=10000)\n",
        "\n",
        "    model.fit(X_train,y_train,eval_set=[(X_train,y_train),(X_test, y_test)], early_stopping_rounds=500, verbose = False)#erly100\n",
        "    preds=model.predict(X_test)\n",
        "    print(\"err: \",f1_score(y_test,preds))\n",
        "    oof_f1.append(f1_score(y_test,preds))\n",
        "    p2 = model.predict_proba(test_df[X_.columns])[:, -1]\n",
        "    lgb_oof_predictions.append(p2)\n",
        "    \n",
        "print(np.mean(oof_f1))"
      ],
      "metadata": {
        "id": "3wq1p1Qrb75J"
      },
      "execution_count": null,
      "outputs": []
    },
    {
      "cell_type": "code",
      "source": [
        "pred_lgb = pd.DataFrame(lgb_oof_predictions).T"
      ],
      "metadata": {
        "id": "_Mdj4pbvcEZe"
      },
      "execution_count": null,
      "outputs": []
    },
    {
      "cell_type": "code",
      "source": [
        "pred_cat = pd.DataFrame(cat_oof_predictions).T"
      ],
      "metadata": {
        "id": "prOVGmgTcIHV"
      },
      "execution_count": null,
      "outputs": []
    }
  ]
}